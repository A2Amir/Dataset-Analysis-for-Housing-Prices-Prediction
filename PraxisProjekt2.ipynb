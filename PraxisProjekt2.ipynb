{
 "cells": [
  {
   "cell_type": "markdown",
   "metadata": {},
   "source": [
    "\\begin{equation*}\n",
    " Amir Ziaee\n",
    "\\end{equation*}\n",
    "\n",
    "\n"
   ]
  },
  {
   "cell_type": "markdown",
   "metadata": {},
   "source": [
    "# Import all neccessary libraries"
   ]
  },
  {
   "cell_type": "code",
   "execution_count": 1,
   "metadata": {},
   "outputs": [],
   "source": [
    "import pandas as pd\n",
    "import numpy as np\n",
    "from sklearn import preprocessing \n",
    "import matplotlib.pyplot as plt\n",
    "import seaborn as sns\n",
    "import mpl_toolkits\n",
    "import os\n",
    "\n",
    "%matplotlib inline"
   ]
  },
  {
   "cell_type": "markdown",
   "metadata": {},
   "source": [
    "# Import Dataset"
   ]
  },
  {
   "cell_type": "code",
   "execution_count": 2,
   "metadata": {},
   "outputs": [
    {
     "data": {
      "text/html": [
       "<div>\n",
       "<style scoped>\n",
       "    .dataframe tbody tr th:only-of-type {\n",
       "        vertical-align: middle;\n",
       "    }\n",
       "\n",
       "    .dataframe tbody tr th {\n",
       "        vertical-align: top;\n",
       "    }\n",
       "\n",
       "    .dataframe thead th {\n",
       "        text-align: right;\n",
       "    }\n",
       "</style>\n",
       "<table border=\"1\" class=\"dataframe\">\n",
       "  <thead>\n",
       "    <tr style=\"text-align: right;\">\n",
       "      <th></th>\n",
       "      <th>quelle</th>\n",
       "      <th>preis</th>\n",
       "      <th>flaeche</th>\n",
       "      <th>pqm</th>\n",
       "      <th>baujahr</th>\n",
       "      <th>stockwerk</th>\n",
       "      <th>zimmer</th>\n",
       "      <th>zustand</th>\n",
       "      <th>balkon</th>\n",
       "      <th>terrasse</th>\n",
       "      <th>...</th>\n",
       "      <th>fenster</th>\n",
       "      <th>belag</th>\n",
       "      <th>bezug</th>\n",
       "      <th>parkett</th>\n",
       "      <th>garage</th>\n",
       "      <th>maisonette</th>\n",
       "      <th>kueche</th>\n",
       "      <th>klima</th>\n",
       "      <th>moebel</th>\n",
       "      <th>jahr</th>\n",
       "    </tr>\n",
       "  </thead>\n",
       "  <tbody>\n",
       "    <tr>\n",
       "      <th>0</th>\n",
       "      <td>1</td>\n",
       "      <td>50000.0</td>\n",
       "      <td>42.0</td>\n",
       "      <td>1190.476190</td>\n",
       "      <td>NaN</td>\n",
       "      <td>NaN</td>\n",
       "      <td>1.5</td>\n",
       "      <td>schlecht</td>\n",
       "      <td>NaN</td>\n",
       "      <td>NaN</td>\n",
       "      <td>...</td>\n",
       "      <td>NaN</td>\n",
       "      <td>NaN</td>\n",
       "      <td>NaN</td>\n",
       "      <td>NaN</td>\n",
       "      <td>NaN</td>\n",
       "      <td>NaN</td>\n",
       "      <td>NaN</td>\n",
       "      <td>NaN</td>\n",
       "      <td>NaN</td>\n",
       "      <td>2006.0</td>\n",
       "    </tr>\n",
       "    <tr>\n",
       "      <th>1</th>\n",
       "      <td>1</td>\n",
       "      <td>95000.0</td>\n",
       "      <td>62.0</td>\n",
       "      <td>1532.258065</td>\n",
       "      <td>1970.0</td>\n",
       "      <td>4</td>\n",
       "      <td>2.0</td>\n",
       "      <td>NaN</td>\n",
       "      <td>NaN</td>\n",
       "      <td>NaN</td>\n",
       "      <td>...</td>\n",
       "      <td>NaN</td>\n",
       "      <td>NaN</td>\n",
       "      <td>NaN</td>\n",
       "      <td>NaN</td>\n",
       "      <td>NaN</td>\n",
       "      <td>NaN</td>\n",
       "      <td>NaN</td>\n",
       "      <td>NaN</td>\n",
       "      <td>NaN</td>\n",
       "      <td>2006.0</td>\n",
       "    </tr>\n",
       "    <tr>\n",
       "      <th>2</th>\n",
       "      <td>1</td>\n",
       "      <td>95000.0</td>\n",
       "      <td>120.0</td>\n",
       "      <td>791.666667</td>\n",
       "      <td>NaN</td>\n",
       "      <td>eg</td>\n",
       "      <td>4.0</td>\n",
       "      <td>schlecht</td>\n",
       "      <td>NaN</td>\n",
       "      <td>1.0</td>\n",
       "      <td>...</td>\n",
       "      <td>NaN</td>\n",
       "      <td>NaN</td>\n",
       "      <td>NaN</td>\n",
       "      <td>NaN</td>\n",
       "      <td>NaN</td>\n",
       "      <td>NaN</td>\n",
       "      <td>NaN</td>\n",
       "      <td>NaN</td>\n",
       "      <td>NaN</td>\n",
       "      <td>2006.0</td>\n",
       "    </tr>\n",
       "    <tr>\n",
       "      <th>3</th>\n",
       "      <td>1</td>\n",
       "      <td>90000.0</td>\n",
       "      <td>54.0</td>\n",
       "      <td>1666.666667</td>\n",
       "      <td>1966.0</td>\n",
       "      <td>eg</td>\n",
       "      <td>2.0</td>\n",
       "      <td>sehr gut</td>\n",
       "      <td>NaN</td>\n",
       "      <td>NaN</td>\n",
       "      <td>...</td>\n",
       "      <td>NaN</td>\n",
       "      <td>NaN</td>\n",
       "      <td>NaN</td>\n",
       "      <td>NaN</td>\n",
       "      <td>NaN</td>\n",
       "      <td>NaN</td>\n",
       "      <td>NaN</td>\n",
       "      <td>NaN</td>\n",
       "      <td>NaN</td>\n",
       "      <td>2006.0</td>\n",
       "    </tr>\n",
       "    <tr>\n",
       "      <th>4</th>\n",
       "      <td>1</td>\n",
       "      <td>280000.0</td>\n",
       "      <td>78.0</td>\n",
       "      <td>3589.743590</td>\n",
       "      <td>1965.0</td>\n",
       "      <td>2</td>\n",
       "      <td>3.0</td>\n",
       "      <td>sehr gut</td>\n",
       "      <td>NaN</td>\n",
       "      <td>NaN</td>\n",
       "      <td>...</td>\n",
       "      <td>NaN</td>\n",
       "      <td>NaN</td>\n",
       "      <td>NaN</td>\n",
       "      <td>NaN</td>\n",
       "      <td>NaN</td>\n",
       "      <td>NaN</td>\n",
       "      <td>NaN</td>\n",
       "      <td>NaN</td>\n",
       "      <td>NaN</td>\n",
       "      <td>2006.0</td>\n",
       "    </tr>\n",
       "  </tbody>\n",
       "</table>\n",
       "<p>5 rows × 30 columns</p>\n",
       "</div>"
      ],
      "text/plain": [
       "   quelle     preis  flaeche          pqm  baujahr stockwerk  zimmer  \\\n",
       "0       1   50000.0     42.0  1190.476190      NaN       NaN     1.5   \n",
       "1       1   95000.0     62.0  1532.258065   1970.0         4     2.0   \n",
       "2       1   95000.0    120.0   791.666667      NaN        eg     4.0   \n",
       "3       1   90000.0     54.0  1666.666667   1966.0        eg     2.0   \n",
       "4       1  280000.0     78.0  3589.743590   1965.0         2     3.0   \n",
       "\n",
       "    zustand  balkon  terrasse   ...    fenster  belag  bezug  parkett  garage  \\\n",
       "0  schlecht     NaN       NaN   ...        NaN    NaN    NaN      NaN     NaN   \n",
       "1       NaN     NaN       NaN   ...        NaN    NaN    NaN      NaN     NaN   \n",
       "2  schlecht     NaN       1.0   ...        NaN    NaN    NaN      NaN     NaN   \n",
       "3  sehr gut     NaN       NaN   ...        NaN    NaN    NaN      NaN     NaN   \n",
       "4  sehr gut     NaN       NaN   ...        NaN    NaN    NaN      NaN     NaN   \n",
       "\n",
       "   maisonette  kueche  klima  moebel    jahr  \n",
       "0         NaN     NaN    NaN     NaN  2006.0  \n",
       "1         NaN     NaN    NaN     NaN  2006.0  \n",
       "2         NaN     NaN    NaN     NaN  2006.0  \n",
       "3         NaN     NaN    NaN     NaN  2006.0  \n",
       "4         NaN     NaN    NaN     NaN  2006.0  \n",
       "\n",
       "[5 rows x 30 columns]"
      ]
     },
     "execution_count": 2,
     "metadata": {},
     "output_type": "execute_result"
    }
   ],
   "source": [
    "df1=pd.read_csv(str(os.getcwd())+\"/MyData.csv\")\n",
    "df1.drop(labels='Unnamed: 0',axis=1,inplace=True)\n",
    "df1.head()"
   ]
  },
  {
   "cell_type": "markdown",
   "metadata": {},
   "source": [
    "# How to work with missing data?\n",
    "\n",
    "Steps for working with missing data:\n",
    "\n",
    "   <b> \n",
    "       \n",
    "       1-Identify missing data\n",
    "    \n",
    "       2-Deal with missing data\n",
    "       \n",
    "       3-Correct data format\n",
    "   </b>\n"
   ]
  },
  {
   "cell_type": "markdown",
   "metadata": {},
   "source": [
    "# 1. Identify and handle missing values:\n",
    "\n",
    "Convert \"?\" to NaN\n",
    "\n",
    "In the home dataset, missing data comes with the question mark \"?\". \n",
    "We replace \"?\" with NaN (Not a Number), which is Python's default missing value marker, for reasons of computational speed and convenience.\n",
    "\n",
    "Here we use the function:   .replace(A, B, inplace = True)  to replace A by B"
   ]
  },
  {
   "cell_type": "code",
   "execution_count": 4,
   "metadata": {},
   "outputs": [
    {
     "data": {
      "text/html": [
       "<div>\n",
       "<style scoped>\n",
       "    .dataframe tbody tr th:only-of-type {\n",
       "        vertical-align: middle;\n",
       "    }\n",
       "\n",
       "    .dataframe tbody tr th {\n",
       "        vertical-align: top;\n",
       "    }\n",
       "\n",
       "    .dataframe thead th {\n",
       "        text-align: right;\n",
       "    }\n",
       "</style>\n",
       "<table border=\"1\" class=\"dataframe\">\n",
       "  <thead>\n",
       "    <tr style=\"text-align: right;\">\n",
       "      <th></th>\n",
       "      <th>quelle</th>\n",
       "      <th>preis</th>\n",
       "      <th>flaeche</th>\n",
       "      <th>pqm</th>\n",
       "      <th>baujahr</th>\n",
       "      <th>stockwerk</th>\n",
       "      <th>zimmer</th>\n",
       "      <th>zustand</th>\n",
       "      <th>balkon</th>\n",
       "      <th>terrasse</th>\n",
       "      <th>...</th>\n",
       "      <th>fenster</th>\n",
       "      <th>belag</th>\n",
       "      <th>bezug</th>\n",
       "      <th>parkett</th>\n",
       "      <th>garage</th>\n",
       "      <th>maisonette</th>\n",
       "      <th>kueche</th>\n",
       "      <th>klima</th>\n",
       "      <th>moebel</th>\n",
       "      <th>jahr</th>\n",
       "    </tr>\n",
       "  </thead>\n",
       "  <tbody>\n",
       "    <tr>\n",
       "      <th>0</th>\n",
       "      <td>1</td>\n",
       "      <td>50000.0</td>\n",
       "      <td>42.0</td>\n",
       "      <td>1190.476190</td>\n",
       "      <td>NaN</td>\n",
       "      <td>NaN</td>\n",
       "      <td>1.5</td>\n",
       "      <td>schlecht</td>\n",
       "      <td>NaN</td>\n",
       "      <td>NaN</td>\n",
       "      <td>...</td>\n",
       "      <td>NaN</td>\n",
       "      <td>NaN</td>\n",
       "      <td>NaN</td>\n",
       "      <td>NaN</td>\n",
       "      <td>NaN</td>\n",
       "      <td>NaN</td>\n",
       "      <td>NaN</td>\n",
       "      <td>NaN</td>\n",
       "      <td>NaN</td>\n",
       "      <td>2006.0</td>\n",
       "    </tr>\n",
       "    <tr>\n",
       "      <th>1</th>\n",
       "      <td>1</td>\n",
       "      <td>95000.0</td>\n",
       "      <td>62.0</td>\n",
       "      <td>1532.258065</td>\n",
       "      <td>1970.0</td>\n",
       "      <td>4</td>\n",
       "      <td>2.0</td>\n",
       "      <td>NaN</td>\n",
       "      <td>NaN</td>\n",
       "      <td>NaN</td>\n",
       "      <td>...</td>\n",
       "      <td>NaN</td>\n",
       "      <td>NaN</td>\n",
       "      <td>NaN</td>\n",
       "      <td>NaN</td>\n",
       "      <td>NaN</td>\n",
       "      <td>NaN</td>\n",
       "      <td>NaN</td>\n",
       "      <td>NaN</td>\n",
       "      <td>NaN</td>\n",
       "      <td>2006.0</td>\n",
       "    </tr>\n",
       "    <tr>\n",
       "      <th>2</th>\n",
       "      <td>1</td>\n",
       "      <td>95000.0</td>\n",
       "      <td>120.0</td>\n",
       "      <td>791.666667</td>\n",
       "      <td>NaN</td>\n",
       "      <td>eg</td>\n",
       "      <td>4.0</td>\n",
       "      <td>schlecht</td>\n",
       "      <td>NaN</td>\n",
       "      <td>1.0</td>\n",
       "      <td>...</td>\n",
       "      <td>NaN</td>\n",
       "      <td>NaN</td>\n",
       "      <td>NaN</td>\n",
       "      <td>NaN</td>\n",
       "      <td>NaN</td>\n",
       "      <td>NaN</td>\n",
       "      <td>NaN</td>\n",
       "      <td>NaN</td>\n",
       "      <td>NaN</td>\n",
       "      <td>2006.0</td>\n",
       "    </tr>\n",
       "    <tr>\n",
       "      <th>3</th>\n",
       "      <td>1</td>\n",
       "      <td>90000.0</td>\n",
       "      <td>54.0</td>\n",
       "      <td>1666.666667</td>\n",
       "      <td>1966.0</td>\n",
       "      <td>eg</td>\n",
       "      <td>2.0</td>\n",
       "      <td>sehr gut</td>\n",
       "      <td>NaN</td>\n",
       "      <td>NaN</td>\n",
       "      <td>...</td>\n",
       "      <td>NaN</td>\n",
       "      <td>NaN</td>\n",
       "      <td>NaN</td>\n",
       "      <td>NaN</td>\n",
       "      <td>NaN</td>\n",
       "      <td>NaN</td>\n",
       "      <td>NaN</td>\n",
       "      <td>NaN</td>\n",
       "      <td>NaN</td>\n",
       "      <td>2006.0</td>\n",
       "    </tr>\n",
       "    <tr>\n",
       "      <th>4</th>\n",
       "      <td>1</td>\n",
       "      <td>280000.0</td>\n",
       "      <td>78.0</td>\n",
       "      <td>3589.743590</td>\n",
       "      <td>1965.0</td>\n",
       "      <td>2</td>\n",
       "      <td>3.0</td>\n",
       "      <td>sehr gut</td>\n",
       "      <td>NaN</td>\n",
       "      <td>NaN</td>\n",
       "      <td>...</td>\n",
       "      <td>NaN</td>\n",
       "      <td>NaN</td>\n",
       "      <td>NaN</td>\n",
       "      <td>NaN</td>\n",
       "      <td>NaN</td>\n",
       "      <td>NaN</td>\n",
       "      <td>NaN</td>\n",
       "      <td>NaN</td>\n",
       "      <td>NaN</td>\n",
       "      <td>2006.0</td>\n",
       "    </tr>\n",
       "    <tr>\n",
       "      <th>5</th>\n",
       "      <td>1</td>\n",
       "      <td>280000.0</td>\n",
       "      <td>109.0</td>\n",
       "      <td>2568.807339</td>\n",
       "      <td>1975.0</td>\n",
       "      <td>3</td>\n",
       "      <td>4.0</td>\n",
       "      <td>sehr gut</td>\n",
       "      <td>NaN</td>\n",
       "      <td>NaN</td>\n",
       "      <td>...</td>\n",
       "      <td>NaN</td>\n",
       "      <td>NaN</td>\n",
       "      <td>NaN</td>\n",
       "      <td>NaN</td>\n",
       "      <td>NaN</td>\n",
       "      <td>NaN</td>\n",
       "      <td>NaN</td>\n",
       "      <td>NaN</td>\n",
       "      <td>NaN</td>\n",
       "      <td>2006.0</td>\n",
       "    </tr>\n",
       "    <tr>\n",
       "      <th>6</th>\n",
       "      <td>1</td>\n",
       "      <td>75000.0</td>\n",
       "      <td>71.0</td>\n",
       "      <td>1056.338028</td>\n",
       "      <td>1974.0</td>\n",
       "      <td>4</td>\n",
       "      <td>2.0</td>\n",
       "      <td>gut</td>\n",
       "      <td>NaN</td>\n",
       "      <td>NaN</td>\n",
       "      <td>...</td>\n",
       "      <td>NaN</td>\n",
       "      <td>NaN</td>\n",
       "      <td>NaN</td>\n",
       "      <td>NaN</td>\n",
       "      <td>NaN</td>\n",
       "      <td>NaN</td>\n",
       "      <td>1.0</td>\n",
       "      <td>NaN</td>\n",
       "      <td>NaN</td>\n",
       "      <td>2006.0</td>\n",
       "    </tr>\n",
       "    <tr>\n",
       "      <th>7</th>\n",
       "      <td>1</td>\n",
       "      <td>95000.0</td>\n",
       "      <td>56.0</td>\n",
       "      <td>1696.428571</td>\n",
       "      <td>NaN</td>\n",
       "      <td>2</td>\n",
       "      <td>2.0</td>\n",
       "      <td>gut</td>\n",
       "      <td>NaN</td>\n",
       "      <td>NaN</td>\n",
       "      <td>...</td>\n",
       "      <td>1.0</td>\n",
       "      <td>NaN</td>\n",
       "      <td>NaN</td>\n",
       "      <td>1.0</td>\n",
       "      <td>NaN</td>\n",
       "      <td>NaN</td>\n",
       "      <td>NaN</td>\n",
       "      <td>NaN</td>\n",
       "      <td>NaN</td>\n",
       "      <td>2006.0</td>\n",
       "    </tr>\n",
       "    <tr>\n",
       "      <th>8</th>\n",
       "      <td>1</td>\n",
       "      <td>165000.0</td>\n",
       "      <td>96.0</td>\n",
       "      <td>1718.750000</td>\n",
       "      <td>NaN</td>\n",
       "      <td>2</td>\n",
       "      <td>3.0</td>\n",
       "      <td>sehr gut</td>\n",
       "      <td>1.0</td>\n",
       "      <td>NaN</td>\n",
       "      <td>...</td>\n",
       "      <td>1.0</td>\n",
       "      <td>NaN</td>\n",
       "      <td>NaN</td>\n",
       "      <td>1.0</td>\n",
       "      <td>NaN</td>\n",
       "      <td>NaN</td>\n",
       "      <td>NaN</td>\n",
       "      <td>NaN</td>\n",
       "      <td>NaN</td>\n",
       "      <td>2006.0</td>\n",
       "    </tr>\n",
       "    <tr>\n",
       "      <th>9</th>\n",
       "      <td>1</td>\n",
       "      <td>78800.0</td>\n",
       "      <td>40.0</td>\n",
       "      <td>1970.000000</td>\n",
       "      <td>2005.0</td>\n",
       "      <td>NaN</td>\n",
       "      <td>1.0</td>\n",
       "      <td>erstbezug nach sanierung</td>\n",
       "      <td>NaN</td>\n",
       "      <td>NaN</td>\n",
       "      <td>...</td>\n",
       "      <td>NaN</td>\n",
       "      <td>NaN</td>\n",
       "      <td>NaN</td>\n",
       "      <td>NaN</td>\n",
       "      <td>NaN</td>\n",
       "      <td>NaN</td>\n",
       "      <td>NaN</td>\n",
       "      <td>NaN</td>\n",
       "      <td>NaN</td>\n",
       "      <td>2006.0</td>\n",
       "    </tr>\n",
       "  </tbody>\n",
       "</table>\n",
       "<p>10 rows × 30 columns</p>\n",
       "</div>"
      ],
      "text/plain": [
       "   quelle     preis  flaeche          pqm  baujahr stockwerk  zimmer  \\\n",
       "0       1   50000.0     42.0  1190.476190      NaN       NaN     1.5   \n",
       "1       1   95000.0     62.0  1532.258065   1970.0         4     2.0   \n",
       "2       1   95000.0    120.0   791.666667      NaN        eg     4.0   \n",
       "3       1   90000.0     54.0  1666.666667   1966.0        eg     2.0   \n",
       "4       1  280000.0     78.0  3589.743590   1965.0         2     3.0   \n",
       "5       1  280000.0    109.0  2568.807339   1975.0         3     4.0   \n",
       "6       1   75000.0     71.0  1056.338028   1974.0         4     2.0   \n",
       "7       1   95000.0     56.0  1696.428571      NaN         2     2.0   \n",
       "8       1  165000.0     96.0  1718.750000      NaN         2     3.0   \n",
       "9       1   78800.0     40.0  1970.000000   2005.0       NaN     1.0   \n",
       "\n",
       "                    zustand  balkon  terrasse   ...    fenster  belag  bezug  \\\n",
       "0                  schlecht     NaN       NaN   ...        NaN    NaN    NaN   \n",
       "1                       NaN     NaN       NaN   ...        NaN    NaN    NaN   \n",
       "2                  schlecht     NaN       1.0   ...        NaN    NaN    NaN   \n",
       "3                  sehr gut     NaN       NaN   ...        NaN    NaN    NaN   \n",
       "4                  sehr gut     NaN       NaN   ...        NaN    NaN    NaN   \n",
       "5                  sehr gut     NaN       NaN   ...        NaN    NaN    NaN   \n",
       "6                       gut     NaN       NaN   ...        NaN    NaN    NaN   \n",
       "7                       gut     NaN       NaN   ...        1.0    NaN    NaN   \n",
       "8                  sehr gut     1.0       NaN   ...        1.0    NaN    NaN   \n",
       "9  erstbezug nach sanierung     NaN       NaN   ...        NaN    NaN    NaN   \n",
       "\n",
       "   parkett  garage  maisonette  kueche  klima  moebel    jahr  \n",
       "0      NaN     NaN         NaN     NaN    NaN     NaN  2006.0  \n",
       "1      NaN     NaN         NaN     NaN    NaN     NaN  2006.0  \n",
       "2      NaN     NaN         NaN     NaN    NaN     NaN  2006.0  \n",
       "3      NaN     NaN         NaN     NaN    NaN     NaN  2006.0  \n",
       "4      NaN     NaN         NaN     NaN    NaN     NaN  2006.0  \n",
       "5      NaN     NaN         NaN     NaN    NaN     NaN  2006.0  \n",
       "6      NaN     NaN         NaN     1.0    NaN     NaN  2006.0  \n",
       "7      1.0     NaN         NaN     NaN    NaN     NaN  2006.0  \n",
       "8      1.0     NaN         NaN     NaN    NaN     NaN  2006.0  \n",
       "9      NaN     NaN         NaN     NaN    NaN     NaN  2006.0  \n",
       "\n",
       "[10 rows x 30 columns]"
      ]
     },
     "execution_count": 4,
     "metadata": {},
     "output_type": "execute_result"
    }
   ],
   "source": [
    "# replace \"?\" to NaN\n",
    "df1.replace(\"?\", np.nan, inplace = True)\n",
    "df1.head(10)"
   ]
  },
  {
   "cell_type": "markdown",
   "metadata": {},
   "source": [
    "# Identify for Missing Data\n",
    "\n",
    "The missing values are converted to Python's default. We use Python's built-in functions to identify these missing values. \n",
    "\n",
    "There are two methods to detect missing data:\n",
    "\n",
    "\n",
    "    1-.isnull()\n",
    "      \n",
    "    2-.notnull()\n",
    "      \n",
    "\n",
    "The output is a boolean value indicating whether the passed in argument value are in fact missing data.\n",
    "\n",
    "<b> \"True\" stands for missing value, while \"False\" stands for not missing value.</b>\n"
   ]
  },
  {
   "cell_type": "code",
   "execution_count": 5,
   "metadata": {},
   "outputs": [
    {
     "data": {
      "text/html": [
       "<div>\n",
       "<style scoped>\n",
       "    .dataframe tbody tr th:only-of-type {\n",
       "        vertical-align: middle;\n",
       "    }\n",
       "\n",
       "    .dataframe tbody tr th {\n",
       "        vertical-align: top;\n",
       "    }\n",
       "\n",
       "    .dataframe thead th {\n",
       "        text-align: right;\n",
       "    }\n",
       "</style>\n",
       "<table border=\"1\" class=\"dataframe\">\n",
       "  <thead>\n",
       "    <tr style=\"text-align: right;\">\n",
       "      <th></th>\n",
       "      <th>quelle</th>\n",
       "      <th>preis</th>\n",
       "      <th>flaeche</th>\n",
       "      <th>pqm</th>\n",
       "      <th>baujahr</th>\n",
       "      <th>stockwerk</th>\n",
       "      <th>zimmer</th>\n",
       "      <th>zustand</th>\n",
       "      <th>balkon</th>\n",
       "      <th>terrasse</th>\n",
       "      <th>...</th>\n",
       "      <th>fenster</th>\n",
       "      <th>belag</th>\n",
       "      <th>bezug</th>\n",
       "      <th>parkett</th>\n",
       "      <th>garage</th>\n",
       "      <th>maisonette</th>\n",
       "      <th>kueche</th>\n",
       "      <th>klima</th>\n",
       "      <th>moebel</th>\n",
       "      <th>jahr</th>\n",
       "    </tr>\n",
       "  </thead>\n",
       "  <tbody>\n",
       "    <tr>\n",
       "      <th>0</th>\n",
       "      <td>False</td>\n",
       "      <td>False</td>\n",
       "      <td>False</td>\n",
       "      <td>False</td>\n",
       "      <td>True</td>\n",
       "      <td>True</td>\n",
       "      <td>False</td>\n",
       "      <td>False</td>\n",
       "      <td>True</td>\n",
       "      <td>True</td>\n",
       "      <td>...</td>\n",
       "      <td>True</td>\n",
       "      <td>True</td>\n",
       "      <td>True</td>\n",
       "      <td>True</td>\n",
       "      <td>True</td>\n",
       "      <td>True</td>\n",
       "      <td>True</td>\n",
       "      <td>True</td>\n",
       "      <td>True</td>\n",
       "      <td>False</td>\n",
       "    </tr>\n",
       "    <tr>\n",
       "      <th>1</th>\n",
       "      <td>False</td>\n",
       "      <td>False</td>\n",
       "      <td>False</td>\n",
       "      <td>False</td>\n",
       "      <td>False</td>\n",
       "      <td>False</td>\n",
       "      <td>False</td>\n",
       "      <td>True</td>\n",
       "      <td>True</td>\n",
       "      <td>True</td>\n",
       "      <td>...</td>\n",
       "      <td>True</td>\n",
       "      <td>True</td>\n",
       "      <td>True</td>\n",
       "      <td>True</td>\n",
       "      <td>True</td>\n",
       "      <td>True</td>\n",
       "      <td>True</td>\n",
       "      <td>True</td>\n",
       "      <td>True</td>\n",
       "      <td>False</td>\n",
       "    </tr>\n",
       "    <tr>\n",
       "      <th>2</th>\n",
       "      <td>False</td>\n",
       "      <td>False</td>\n",
       "      <td>False</td>\n",
       "      <td>False</td>\n",
       "      <td>True</td>\n",
       "      <td>False</td>\n",
       "      <td>False</td>\n",
       "      <td>False</td>\n",
       "      <td>True</td>\n",
       "      <td>False</td>\n",
       "      <td>...</td>\n",
       "      <td>True</td>\n",
       "      <td>True</td>\n",
       "      <td>True</td>\n",
       "      <td>True</td>\n",
       "      <td>True</td>\n",
       "      <td>True</td>\n",
       "      <td>True</td>\n",
       "      <td>True</td>\n",
       "      <td>True</td>\n",
       "      <td>False</td>\n",
       "    </tr>\n",
       "    <tr>\n",
       "      <th>3</th>\n",
       "      <td>False</td>\n",
       "      <td>False</td>\n",
       "      <td>False</td>\n",
       "      <td>False</td>\n",
       "      <td>False</td>\n",
       "      <td>False</td>\n",
       "      <td>False</td>\n",
       "      <td>False</td>\n",
       "      <td>True</td>\n",
       "      <td>True</td>\n",
       "      <td>...</td>\n",
       "      <td>True</td>\n",
       "      <td>True</td>\n",
       "      <td>True</td>\n",
       "      <td>True</td>\n",
       "      <td>True</td>\n",
       "      <td>True</td>\n",
       "      <td>True</td>\n",
       "      <td>True</td>\n",
       "      <td>True</td>\n",
       "      <td>False</td>\n",
       "    </tr>\n",
       "    <tr>\n",
       "      <th>4</th>\n",
       "      <td>False</td>\n",
       "      <td>False</td>\n",
       "      <td>False</td>\n",
       "      <td>False</td>\n",
       "      <td>False</td>\n",
       "      <td>False</td>\n",
       "      <td>False</td>\n",
       "      <td>False</td>\n",
       "      <td>True</td>\n",
       "      <td>True</td>\n",
       "      <td>...</td>\n",
       "      <td>True</td>\n",
       "      <td>True</td>\n",
       "      <td>True</td>\n",
       "      <td>True</td>\n",
       "      <td>True</td>\n",
       "      <td>True</td>\n",
       "      <td>True</td>\n",
       "      <td>True</td>\n",
       "      <td>True</td>\n",
       "      <td>False</td>\n",
       "    </tr>\n",
       "  </tbody>\n",
       "</table>\n",
       "<p>5 rows × 30 columns</p>\n",
       "</div>"
      ],
      "text/plain": [
       "   quelle  preis  flaeche    pqm  baujahr  stockwerk  zimmer  zustand  balkon  \\\n",
       "0   False  False    False  False     True       True   False    False    True   \n",
       "1   False  False    False  False    False      False   False     True    True   \n",
       "2   False  False    False  False     True      False   False    False    True   \n",
       "3   False  False    False  False    False      False   False    False    True   \n",
       "4   False  False    False  False    False      False   False    False    True   \n",
       "\n",
       "   terrasse  ...    fenster  belag  bezug  parkett  garage  maisonette  \\\n",
       "0      True  ...       True   True   True     True    True        True   \n",
       "1      True  ...       True   True   True     True    True        True   \n",
       "2     False  ...       True   True   True     True    True        True   \n",
       "3      True  ...       True   True   True     True    True        True   \n",
       "4      True  ...       True   True   True     True    True        True   \n",
       "\n",
       "   kueche  klima  moebel   jahr  \n",
       "0    True   True    True  False  \n",
       "1    True   True    True  False  \n",
       "2    True   True    True  False  \n",
       "3    True   True    True  False  \n",
       "4    True   True    True  False  \n",
       "\n",
       "[5 rows x 30 columns]"
      ]
     },
     "execution_count": 5,
     "metadata": {},
     "output_type": "execute_result"
    }
   ],
   "source": [
    "missing_data=df1.isnull()\n",
    "missing_data.head()"
   ]
  },
  {
   "cell_type": "markdown",
   "metadata": {},
   "source": [
    "# Counting missing values in each column\n",
    "\n",
    "Using a for loop in Python, we can quickly figure out the number of missing values in each column. As mentioned above, \"True\" represents a missing value, \"False\" means the value is present in the dataset. "
   ]
  },
  {
   "cell_type": "code",
   "execution_count": 6,
   "metadata": {},
   "outputs": [
    {
     "name": "stdout",
     "output_type": "stream",
     "text": [
      "quelle\n",
      "False    211295\n",
      "Name: quelle, dtype: int64\n",
      " \n",
      "preis\n",
      "False    203072\n",
      "True       8223\n",
      "Name: preis, dtype: int64\n",
      " \n",
      "flaeche\n",
      "False    181217\n",
      "True      30078\n",
      "Name: flaeche, dtype: int64\n",
      " \n",
      "pqm\n",
      "False    176797\n",
      "True      34498\n",
      "Name: pqm, dtype: int64\n",
      " \n",
      "baujahr\n",
      "False    125329\n",
      "True      85966\n",
      "Name: baujahr, dtype: int64\n",
      " \n",
      "stockwerk\n",
      "False    131733\n",
      "True      79562\n",
      "Name: stockwerk, dtype: int64\n",
      " \n",
      "zimmer\n",
      "False    193360\n",
      "True      17935\n",
      "Name: zimmer, dtype: int64\n",
      " \n",
      "zustand\n",
      "False    162027\n",
      "True      49268\n",
      "Name: zustand, dtype: int64\n",
      " \n",
      "balkon\n",
      "True     144483\n",
      "False     66812\n",
      "Name: balkon, dtype: int64\n",
      " \n",
      "terrasse\n",
      "True     128458\n",
      "False     82837\n",
      "Name: terrasse, dtype: int64\n",
      " \n",
      "garten\n",
      "True     190003\n",
      "False     21292\n",
      "Name: garten, dtype: int64\n",
      " \n",
      "wc\n",
      "True     201277\n",
      "False     10018\n",
      "Name: wc, dtype: int64\n",
      " \n",
      "loggia\n",
      "True     185215\n",
      "False     26080\n",
      "Name: loggia, dtype: int64\n",
      " \n",
      "keller\n",
      "False    108443\n",
      "True     102852\n",
      "Name: keller, dtype: int64\n",
      " \n",
      "abstellraum\n",
      "True     168041\n",
      "False     43254\n",
      "Name: abstellraum, dtype: int64\n",
      " \n",
      "lift\n",
      "False    143097\n",
      "True      68198\n",
      "Name: lift, dtype: int64\n",
      " \n",
      "anlagewohnung\n",
      "True     185701\n",
      "False     25594\n",
      "Name: anlagewohnung, dtype: int64\n",
      " \n",
      "dg\n",
      "True     166155\n",
      "False     45140\n",
      "Name: dg, dtype: int64\n",
      " \n",
      "penthouse\n",
      "True     204837\n",
      "False      6458\n",
      "Name: penthouse, dtype: int64\n",
      " \n",
      "luxus\n",
      "True     187643\n",
      "False     23652\n",
      "Name: luxus, dtype: int64\n",
      " \n",
      "fenster\n",
      "True     186142\n",
      "False     25153\n",
      "Name: fenster, dtype: int64\n",
      " \n",
      "belag\n",
      "True     137840\n",
      "False     73455\n",
      "Name: belag, dtype: int64\n",
      " \n",
      "bezug\n",
      "True     132411\n",
      "False     78884\n",
      "Name: bezug, dtype: int64\n",
      " \n",
      "parkett\n",
      "True     122406\n",
      "False     88889\n",
      "Name: parkett, dtype: int64\n",
      " \n",
      "garage\n",
      "True     179467\n",
      "False     31828\n",
      "Name: garage, dtype: int64\n",
      " \n",
      "maisonette\n",
      "True     190639\n",
      "False     20656\n",
      "Name: maisonette, dtype: int64\n",
      " \n",
      "kueche\n",
      "True     182496\n",
      "False     28799\n",
      "Name: kueche, dtype: int64\n",
      " \n",
      "klima\n",
      "True     202716\n",
      "False      8579\n",
      "Name: klima, dtype: int64\n",
      " \n",
      "moebel\n",
      "True     199053\n",
      "False     12242\n",
      "Name: moebel, dtype: int64\n",
      " \n",
      "jahr\n",
      "False    204036\n",
      "True       7259\n",
      "Name: jahr, dtype: int64\n",
      " \n"
     ]
    }
   ],
   "source": [
    "for column in missing_data.columns.values.tolist():\n",
    "    print (column)\n",
    "    print(missing_data[column].value_counts())\n",
    "    print(\" \")"
   ]
  },
  {
   "cell_type": "markdown",
   "metadata": {},
   "source": [
    "# Showing Missing Ratio of Dataset\n"
   ]
  },
  {
   "cell_type": "code",
   "execution_count": 8,
   "metadata": {},
   "outputs": [
    {
     "data": {
      "text/html": [
       "<div>\n",
       "<style scoped>\n",
       "    .dataframe tbody tr th:only-of-type {\n",
       "        vertical-align: middle;\n",
       "    }\n",
       "\n",
       "    .dataframe tbody tr th {\n",
       "        vertical-align: top;\n",
       "    }\n",
       "\n",
       "    .dataframe thead th {\n",
       "        text-align: right;\n",
       "    }\n",
       "</style>\n",
       "<table border=\"1\" class=\"dataframe\">\n",
       "  <thead>\n",
       "    <tr style=\"text-align: right;\">\n",
       "      <th></th>\n",
       "      <th>Missing Ratio</th>\n",
       "    </tr>\n",
       "  </thead>\n",
       "  <tbody>\n",
       "    <tr>\n",
       "      <th>penthouse</th>\n",
       "      <td>96.943610</td>\n",
       "    </tr>\n",
       "    <tr>\n",
       "      <th>klima</th>\n",
       "      <td>95.939800</td>\n",
       "    </tr>\n",
       "    <tr>\n",
       "      <th>wc</th>\n",
       "      <td>95.258761</td>\n",
       "    </tr>\n",
       "    <tr>\n",
       "      <th>moebel</th>\n",
       "      <td>94.206205</td>\n",
       "    </tr>\n",
       "    <tr>\n",
       "      <th>maisonette</th>\n",
       "      <td>90.224094</td>\n",
       "    </tr>\n",
       "  </tbody>\n",
       "</table>\n",
       "</div>"
      ],
      "text/plain": [
       "            Missing Ratio\n",
       "penthouse       96.943610\n",
       "klima           95.939800\n",
       "wc              95.258761\n",
       "moebel          94.206205\n",
       "maisonette      90.224094"
      ]
     },
     "execution_count": 8,
     "metadata": {},
     "output_type": "execute_result"
    }
   ],
   "source": [
    "all_data_na = (df1.isnull().sum() / len(df1)) * 100\n",
    "all_data_na = all_data_na.drop(all_data_na[all_data_na == 0].index).sort_values(ascending=False)[:30]\n",
    "missing_data = pd.DataFrame({'Missing Ratio' :all_data_na})\n",
    "missing_data.head()\n",
    "\n"
   ]
  },
  {
   "cell_type": "code",
   "execution_count": 9,
   "metadata": {},
   "outputs": [
    {
     "data": {
      "text/plain": [
       "Text(0.5, 1.0, 'Percent missing data by feature')"
      ]
     },
     "execution_count": 9,
     "metadata": {},
     "output_type": "execute_result"
    },
    {
     "data": {
      "image/png": "[encoded data removed]",
      "text/plain": [
       "<Figure size 1080x864 with 1 Axes>"
      ]
     },
     "metadata": {},
     "output_type": "display_data"
    }
   ],
   "source": [
    "# Percent missing data by feature\n",
    "f, ax = plt.subplots(figsize=(15, 12))\n",
    "plt.xticks(rotation='90')\n",
    "sns.barplot(x=all_data_na.index, y=all_data_na)\n",
    "plt.xlabel('Features', fontsize=15)\n",
    "plt.ylabel('Percent of missing values', fontsize=15)\n",
    "plt.title('Percent missing data by feature', fontsize=15)"
   ]
  },
  {
   "cell_type": "markdown",
   "metadata": {},
   "source": [
    "## 2- Deal with missing data\n",
    "\n",
    "How to deal with missing data?\n",
    "\n",
    "1. drop data: \n",
    "        a. drop the whole row\n",
    "        b. drop the whole column\n",
    "2. replace data:\n",
    "        a. replace it by mean\n",
    "        b. replace it by frequency\n"
   ]
  },
  {
   "cell_type": "markdown",
   "metadata": {},
   "source": [
    "Whole columns should be dropped only if most entries in the column are empty. In our dataset, We have some freedom in choosing which method to replace data; however, some methods may seem more reasonable than others. We will apply each method to many different column\n",
    "\n",
    "\n",
    "**Replace by mean:**\n",
    "\n",
    "    \"flaeche\": 30078 missing data, replace them with mean\n",
    "    \"baujahr\": 85966 missing data, replace them with mean\n",
    "    \"pqm\": 34498 missing data, replace them with mean. \n",
    "\n",
    "  \n",
    "**Replace by frequency:**\n",
    "\n",
    "    \"price\": 8223 missing data, replace them frequeny.\n",
    "    \"stockwerk\": 79562 missing data, replace them frequeny. \n",
    "    \"zimmer\": 17935 missing data, replace them frequeny. \n",
    "    \"zustand\": 49268 missing data, replace them frequeny. \n",
    "           \n",
    "\n",
    "**Drop the whole row:**\n",
    "\n",
    "    Nothings\n",
    "    \n",
    "\n",
    "**Drop the whole column:**\n",
    "    \n",
    "    \"quelle\": 34498 missing data, drop the whole column. \n",
    "    \"balkon\": 144483 missing data, drop the whole column.\n",
    "    \n",
    "    \"terrase\": 128458 missing data, drop the whole column.  \n",
    "    \"garten\": 190003 missing data, drop the whole column.\n",
    "    \"wc\": 201277 missing data, drop the whole column.\n",
    "\n",
    "    \"loggia\": 185215 missing data, drop the whole column. \n",
    "    \"keller\": 102852 missing data, drop the whole column.\n",
    "    \"abstellraum\": 168041 missing data, drop the whole column.\n",
    "\n",
    "    \"lift\": 68198 missing data,drop the whole column.\n",
    "    \"anlagewohnung\": 185701 missing data, drop the whole column.\n",
    "    \"dg\": 166155 missing data,drop the whole column.\n",
    "    \"penthouse\": 204837 missing data,drop the whole column.\n",
    "    \n",
    "    \"luxus\": 187643 missing data, drop the whole column.\n",
    "    \"fenster\": 186142 missing data, drop the whole column.\n",
    "    \n",
    "    \"belag\": 137840 missing data, drop the whole column.\n",
    "    \"bezug\": 132411 missing data, drop the whole column.\n",
    "    \n",
    "    \"Parkett\": 122406 missing data, drop the whole column.\n",
    "    \"garage\": 179467 missing data, drop the whole column.\n",
    "    \"maisonette\": 190639 missing data, drop the whole column.\n",
    "\n",
    "  \n",
    "    \"küche\": 182496 missing data,drop the whole column.\n",
    "    \"klima\": 202716 missing data,drop the whole column.\n",
    "    \"mobel\": 199053 missing data,drop the whole column.\n",
    "    \"jahr\": 7259 missing data, drop the whole column."
   ]
  },
  {
   "cell_type": "markdown",
   "metadata": {},
   "source": [
    "**Replace by mean:**\n"
   ]
  },
  {
   "cell_type": "code",
   "execution_count": 10,
   "metadata": {},
   "outputs": [
    {
     "name": "stdout",
     "output_type": "stream",
     "text": [
      "Average of flaeche: 88.88\n"
     ]
    }
   ],
   "source": [
    "flaeche_avg=round(df1[\"flaeche\"].astype(\"float64\").mean(axis=0),2)\n",
    "print(\"Average of flaeche:\",flaeche_avg)\n",
    "df1[\"flaeche\"].replace(np.nan,flaeche_avg,inplace=True)"
   ]
  },
  {
   "cell_type": "code",
   "execution_count": 11,
   "metadata": {},
   "outputs": [
    {
     "name": "stdout",
     "output_type": "stream",
     "text": [
      "Average of baujahr: 1964\n"
     ]
    }
   ],
   "source": [
    "baujahr_avg=int(df1[\"baujahr\"].astype(\"float64\").mean(axis=0))\n",
    "print(\"Average of baujahr:\",baujahr_avg)\n",
    "df1[\"baujahr\"].replace(np.nan,baujahr_avg,inplace=True)\n"
   ]
  },
  {
   "cell_type": "code",
   "execution_count": 12,
   "metadata": {},
   "outputs": [
    {
     "name": "stdout",
     "output_type": "stream",
     "text": [
      "Average of Pqm: 68561517.86\n"
     ]
    }
   ],
   "source": [
    "pqm_avg=round(df1[\"pqm\"].astype(\"float64\").mean(axis=0),2)\n",
    "print(\"Average of Pqm:\",pqm_avg)\n",
    "df1[\"pqm\"].replace(np.nan,baujahr_avg,inplace=True)"
   ]
  },
  {
   "cell_type": "markdown",
   "metadata": {},
   "source": [
    "**Replace by Frequency:**\n"
   ]
  },
  {
   "cell_type": "code",
   "execution_count": 13,
   "metadata": {},
   "outputs": [
    {
     "name": "stdout",
     "output_type": "stream",
     "text": [
      "Frequency of prices: 199000\n"
     ]
    }
   ],
   "source": [
    "preis_frequency=int(df1['preis'].value_counts().idxmax())\n",
    "print(\"Frequency of prices:\",preis_frequency)\n",
    "df1[\"preis\"].replace(np.nan,preis_frequency,inplace=True)"
   ]
  },
  {
   "cell_type": "code",
   "execution_count": 14,
   "metadata": {},
   "outputs": [
    {
     "name": "stdout",
     "output_type": "stream",
     "text": [
      "Frequency of stockwerk: 1\n"
     ]
    }
   ],
   "source": [
    "stockwerk_frequency=int(df1[\"stockwerk\"].value_counts().idxmax())\n",
    "print(\"Frequency of stockwerk:\",stockwerk_frequency)\n",
    "df1[\"stockwerk\"].replace(np.nan,stockwerk_frequency,inplace=True)\n",
    "df1[\"stockwerk\"].replace(\"eg\",0,inplace=True)\n",
    "df1['stockwerk'].replace(\"souterrain\",-1,inplace=True)\n",
    "df1['stockwerk'].replace(\"hochparterre\",1.5,inplace=True)\n",
    "df1['stockwerk'].replace(\"mezzanine\",1.5,inplace=True)\n",
    "\n"
   ]
  },
  {
   "cell_type": "code",
   "execution_count": 15,
   "metadata": {},
   "outputs": [
    {
     "name": "stdout",
     "output_type": "stream",
     "text": [
      "Frequency of Zimmer: 3\n"
     ]
    }
   ],
   "source": [
    "zimmer_frequency=int(df1[\"zimmer\"].value_counts().idxmax())\n",
    "print(\"Frequency of Zimmer:\",zimmer_frequency)\n",
    "df1[\"zimmer\"].replace(np.nan,zimmer_frequency,inplace=True)"
   ]
  },
  {
   "cell_type": "code",
   "execution_count": 16,
   "metadata": {},
   "outputs": [
    {
     "name": "stdout",
     "output_type": "stream",
     "text": [
      "Frequency of zustand: erstbezug nach neubau\n"
     ]
    }
   ],
   "source": [
    "zustand_frequency=df1[\"zustand\"].value_counts().idxmax()\n",
    "print(\"Frequency of zustand:\",zustand_frequency)\n",
    "df1[\"zustand\"].replace(np.nan,zustand_frequency,inplace=True)"
   ]
  },
  {
   "cell_type": "markdown",
   "metadata": {},
   "source": [
    "**Drop the whole column**\n"
   ]
  },
  {
   "cell_type": "code",
   "execution_count": 17,
   "metadata": {},
   "outputs": [],
   "source": [
    "df1.drop(columns=['quelle','balkon','terrasse','garten','wc','loggia','keller','abstellraum','lift','anlagewohnung','dg','penthouse','luxus','fenster'],inplace=True)\n",
    "\n",
    "df1.drop(columns=['belag','bezug','parkett','garage','maisonette','kueche','klima','moebel','jahr'],inplace=True)\n",
    "\n",
    "df1.reset_index(drop = True, inplace = True)\n"
   ]
  },
  {
   "cell_type": "code",
   "execution_count": 18,
   "metadata": {},
   "outputs": [
    {
     "data": {
      "text/html": [
       "<div>\n",
       "<style scoped>\n",
       "    .dataframe tbody tr th:only-of-type {\n",
       "        vertical-align: middle;\n",
       "    }\n",
       "\n",
       "    .dataframe tbody tr th {\n",
       "        vertical-align: top;\n",
       "    }\n",
       "\n",
       "    .dataframe thead th {\n",
       "        text-align: right;\n",
       "    }\n",
       "</style>\n",
       "<table border=\"1\" class=\"dataframe\">\n",
       "  <thead>\n",
       "    <tr style=\"text-align: right;\">\n",
       "      <th></th>\n",
       "      <th>preis</th>\n",
       "      <th>flaeche</th>\n",
       "      <th>pqm</th>\n",
       "      <th>baujahr</th>\n",
       "      <th>stockwerk</th>\n",
       "      <th>zimmer</th>\n",
       "      <th>zustand</th>\n",
       "    </tr>\n",
       "  </thead>\n",
       "  <tbody>\n",
       "    <tr>\n",
       "      <th>0</th>\n",
       "      <td>50000.0</td>\n",
       "      <td>42.0</td>\n",
       "      <td>1190.476190</td>\n",
       "      <td>1964.0</td>\n",
       "      <td>1</td>\n",
       "      <td>1.5</td>\n",
       "      <td>schlecht</td>\n",
       "    </tr>\n",
       "    <tr>\n",
       "      <th>1</th>\n",
       "      <td>95000.0</td>\n",
       "      <td>62.0</td>\n",
       "      <td>1532.258065</td>\n",
       "      <td>1970.0</td>\n",
       "      <td>4</td>\n",
       "      <td>2.0</td>\n",
       "      <td>erstbezug nach neubau</td>\n",
       "    </tr>\n",
       "    <tr>\n",
       "      <th>2</th>\n",
       "      <td>95000.0</td>\n",
       "      <td>120.0</td>\n",
       "      <td>791.666667</td>\n",
       "      <td>1964.0</td>\n",
       "      <td>0</td>\n",
       "      <td>4.0</td>\n",
       "      <td>schlecht</td>\n",
       "    </tr>\n",
       "    <tr>\n",
       "      <th>3</th>\n",
       "      <td>90000.0</td>\n",
       "      <td>54.0</td>\n",
       "      <td>1666.666667</td>\n",
       "      <td>1966.0</td>\n",
       "      <td>0</td>\n",
       "      <td>2.0</td>\n",
       "      <td>sehr gut</td>\n",
       "    </tr>\n",
       "    <tr>\n",
       "      <th>4</th>\n",
       "      <td>280000.0</td>\n",
       "      <td>78.0</td>\n",
       "      <td>3589.743590</td>\n",
       "      <td>1965.0</td>\n",
       "      <td>2</td>\n",
       "      <td>3.0</td>\n",
       "      <td>sehr gut</td>\n",
       "    </tr>\n",
       "  </tbody>\n",
       "</table>\n",
       "</div>"
      ],
      "text/plain": [
       "      preis  flaeche          pqm  baujahr stockwerk  zimmer  \\\n",
       "0   50000.0     42.0  1190.476190   1964.0         1     1.5   \n",
       "1   95000.0     62.0  1532.258065   1970.0         4     2.0   \n",
       "2   95000.0    120.0   791.666667   1964.0         0     4.0   \n",
       "3   90000.0     54.0  1666.666667   1966.0         0     2.0   \n",
       "4  280000.0     78.0  3589.743590   1965.0         2     3.0   \n",
       "\n",
       "                 zustand  \n",
       "0               schlecht  \n",
       "1  erstbezug nach neubau  \n",
       "2               schlecht  \n",
       "3               sehr gut  \n",
       "4               sehr gut  "
      ]
     },
     "execution_count": 18,
     "metadata": {},
     "output_type": "execute_result"
    }
   ],
   "source": [
    "df1.head()"
   ]
  },
  {
   "cell_type": "markdown",
   "metadata": {},
   "source": [
    "# Data Standardization\n",
    "Data is usually collected from different agencies with different formats.\n",
    "(Data Standardization is also a term for a particular type of data normalization, where we subtract the mean and divide by the standard deviation)\n",
    "\n",
    "**What is Standardization?**\n",
    "<div>Standardization is the process of transforming data into a common format which allows the researcher to make the meaningful comparison.\n",
    "</div>\n",
    "We dont need any data standardization in the dataset"
   ]
  },
  {
   "cell_type": "code",
   "execution_count": 19,
   "metadata": {},
   "outputs": [
    {
     "data": {
      "text/plain": [
       "preis        float64\n",
       "flaeche      float64\n",
       "pqm          float64\n",
       "baujahr      float64\n",
       "stockwerk     object\n",
       "zimmer       float64\n",
       "zustand       object\n",
       "dtype: object"
      ]
     },
     "execution_count": 19,
     "metadata": {},
     "output_type": "execute_result"
    }
   ],
   "source": [
    "df1.dtypes"
   ]
  },
  {
   "cell_type": "code",
   "execution_count": 20,
   "metadata": {},
   "outputs": [],
   "source": [
    "df1[\"stockwerk\"]=df1['stockwerk'].astype(\"float64\")\n",
    "df1['preis']=df1['preis'].astype('float64')\n",
    "df1[\"flaeche\"]=df1['flaeche'].astype(\"float64\")\n",
    "df1['zimmer']=df1['zimmer'].astype('float64')\n",
    "df1['baujahr']=df1['baujahr'].astype('float64')\n",
    "df1['pqm']=df1['pqm'].astype('float64')\n",
    "\n",
    "\n",
    "\n"
   ]
  },
  {
   "cell_type": "markdown",
   "metadata": {},
   "source": [
    "# Data Normalization \n",
    "\n",
    "**Why normalization?**\n",
    "<div>Normalization is the process of transforming values of several variables into a similar range. Typical normalizations include scaling the variable so the variable average is 0, scaling the variable so the variable variance is 1, or scaling variable so the variable values range from 0 to 1"
   ]
  },
  {
   "cell_type": "code",
   "execution_count": 21,
   "metadata": {},
   "outputs": [],
   "source": [
    "#df.apply(lambda x:(x-np.mean(x))/(np.max(x)-np.min(x)))\n",
    "min_max_scaler=preprocessing.MinMaxScaler()\n",
    "normalize_group=df1[['preis','flaeche','baujahr','stockwerk','zimmer','pqm']]\n",
    "df_scaled=min_max_scaler.fit_transform(normalize_group)\n",
    "df2=pd.DataFrame(df_scaled)\n",
    "df2.rename(index=str, columns={0: \"preis\", 1: \"flaeche\",2:'baujahr',3:'stockwerk',4:'zimmer',5:'pqm'},inplace=True)\n",
    "df2['zustand'] = df1['zustand'].values"
   ]
  },
  {
   "cell_type": "code",
   "execution_count": 22,
   "metadata": {},
   "outputs": [
    {
     "data": {
      "text/html": [
       "<div>\n",
       "<style scoped>\n",
       "    .dataframe tbody tr th:only-of-type {\n",
       "        vertical-align: middle;\n",
       "    }\n",
       "\n",
       "    .dataframe tbody tr th {\n",
       "        vertical-align: top;\n",
       "    }\n",
       "\n",
       "    .dataframe thead th {\n",
       "        text-align: right;\n",
       "    }\n",
       "</style>\n",
       "<table border=\"1\" class=\"dataframe\">\n",
       "  <thead>\n",
       "    <tr style=\"text-align: right;\">\n",
       "      <th></th>\n",
       "      <th>preis</th>\n",
       "      <th>flaeche</th>\n",
       "      <th>baujahr</th>\n",
       "      <th>stockwerk</th>\n",
       "      <th>zimmer</th>\n",
       "      <th>pqm</th>\n",
       "      <th>zustand</th>\n",
       "    </tr>\n",
       "  </thead>\n",
       "  <tbody>\n",
       "    <tr>\n",
       "      <th>0</th>\n",
       "      <td>1.115250e-10</td>\n",
       "      <td>0.045931</td>\n",
       "      <td>0.941694</td>\n",
       "      <td>0.043478</td>\n",
       "      <td>0.005319</td>\n",
       "      <td>3.956767e-10</td>\n",
       "      <td>schlecht</td>\n",
       "    </tr>\n",
       "    <tr>\n",
       "      <th>1</th>\n",
       "      <td>2.118975e-10</td>\n",
       "      <td>0.067803</td>\n",
       "      <td>0.948295</td>\n",
       "      <td>0.108696</td>\n",
       "      <td>0.010638</td>\n",
       "      <td>5.092742e-10</td>\n",
       "      <td>erstbezug nach neubau</td>\n",
       "    </tr>\n",
       "    <tr>\n",
       "      <th>2</th>\n",
       "      <td>2.118975e-10</td>\n",
       "      <td>0.131231</td>\n",
       "      <td>0.941694</td>\n",
       "      <td>0.021739</td>\n",
       "      <td>0.031915</td>\n",
       "      <td>2.631250e-10</td>\n",
       "      <td>schlecht</td>\n",
       "    </tr>\n",
       "    <tr>\n",
       "      <th>3</th>\n",
       "      <td>2.007450e-10</td>\n",
       "      <td>0.059054</td>\n",
       "      <td>0.943894</td>\n",
       "      <td>0.021739</td>\n",
       "      <td>0.010638</td>\n",
       "      <td>5.539473e-10</td>\n",
       "      <td>sehr gut</td>\n",
       "    </tr>\n",
       "    <tr>\n",
       "      <th>4</th>\n",
       "      <td>6.245400e-10</td>\n",
       "      <td>0.085300</td>\n",
       "      <td>0.942794</td>\n",
       "      <td>0.065217</td>\n",
       "      <td>0.021277</td>\n",
       "      <td>1.193117e-09</td>\n",
       "      <td>sehr gut</td>\n",
       "    </tr>\n",
       "  </tbody>\n",
       "</table>\n",
       "</div>"
      ],
      "text/plain": [
       "          preis   flaeche   baujahr  stockwerk    zimmer           pqm  \\\n",
       "0  1.115250e-10  0.045931  0.941694   0.043478  0.005319  3.956767e-10   \n",
       "1  2.118975e-10  0.067803  0.948295   0.108696  0.010638  5.092742e-10   \n",
       "2  2.118975e-10  0.131231  0.941694   0.021739  0.031915  2.631250e-10   \n",
       "3  2.007450e-10  0.059054  0.943894   0.021739  0.010638  5.539473e-10   \n",
       "4  6.245400e-10  0.085300  0.942794   0.065217  0.021277  1.193117e-09   \n",
       "\n",
       "                 zustand  \n",
       "0               schlecht  \n",
       "1  erstbezug nach neubau  \n",
       "2               schlecht  \n",
       "3               sehr gut  \n",
       "4               sehr gut  "
      ]
     },
     "execution_count": 22,
     "metadata": {},
     "output_type": "execute_result"
    }
   ],
   "source": [
    " df2.head()"
   ]
  },
  {
   "cell_type": "markdown",
   "metadata": {},
   "source": [
    "# Distribution of Variables"
   ]
  },
  {
   "cell_type": "code",
   "execution_count": 23,
   "metadata": {},
   "outputs": [
    {
     "name": "stdout",
     "output_type": "stream",
     "text": [
      "Skewness: 301.007671\n",
      "Kurtosis: 99768.790799\n",
      "\n",
      " mu = 0.00 and sigma = 0.00\n",
      "\n"
     ]
    },
    {
     "data": {
      "image/png": "[encoded data removed]",
      "text/plain": [
       "<Figure size 432x288 with 2 Axes>"
      ]
     },
     "metadata": {},
     "output_type": "display_data"
    },
    {
     "name": "stdout",
     "output_type": "stream",
     "text": [
      "Skewness: 2.450092\n",
      "Kurtosis: 12.770485\n",
      "\n",
      " mu = 0.10 and sigma = 0.05\n",
      "\n"
     ]
    },
    {
     "data": {
      "image/png": "[encoded data removed]",
      "text/plain": [
       "<Figure size 432x288 with 2 Axes>"
      ]
     },
     "metadata": {},
     "output_type": "display_data"
    },
    {
     "name": "stdout",
     "output_type": "stream",
     "text": [
      "Skewness: -3.384388\n",
      "Kurtosis: 52.419265\n",
      "\n",
      " mu = 0.94 and sigma = 0.04\n",
      "\n"
     ]
    },
    {
     "data": {
      "image/png": "[encoded data removed]",
      "text/plain": [
       "<Figure size 432x288 with 2 Axes>"
      ]
     },
     "metadata": {},
     "output_type": "display_data"
    },
    {
     "name": "stdout",
     "output_type": "stream",
     "text": [
      "Skewness: 4.943668\n",
      "Kurtosis: 64.681850\n",
      "\n",
      " mu = 0.06 and sigma = 0.04\n",
      "\n"
     ]
    },
    {
     "data": {
      "image/png": "[encoded data removed]",
      "text/plain": [
       "<Figure size 432x288 with 2 Axes>"
      ]
     },
     "metadata": {},
     "output_type": "display_data"
    },
    {
     "name": "stdout",
     "output_type": "stream",
     "text": [
      "Skewness: 16.070177\n",
      "Kurtosis: 543.597169\n",
      "\n",
      " mu = 0.02 and sigma = 0.02\n",
      "\n"
     ]
    },
    {
     "data": {
      "image/png": "[encoded data removed]",
      "text/plain": [
       "<Figure size 432x288 with 2 Axes>"
      ]
     },
     "metadata": {},
     "output_type": "display_data"
    },
    {
     "name": "stdout",
     "output_type": "stream",
     "text": [
      "Skewness: 214.001795\n",
      "Kurtosis: 46815.697165\n",
      "\n",
      " mu = 0.00 and sigma = 0.00\n",
      "\n"
     ]
    },
    {
     "data": {
      "image/png": "[encoded data removed]",
      "text/plain": [
       "<Figure size 432x288 with 2 Axes>"
      ]
     },
     "metadata": {},
     "output_type": "display_data"
    }
   ],
   "source": [
    "from scipy.stats import norm\n",
    "from scipy import stats\n",
    "\n",
    "# Plot Histogram\n",
    "for i in range(0,len(df2.columns)-1):\n",
    "    x=df2[df2.columns[i]]\n",
    "    plt.subplot(211)\n",
    "    res = stats.probplot( x, plot=plt)\n",
    "    print(\"Skewness: %f\" % x.skew())\n",
    "    print(\"Kurtosis: %f\" % x.kurt())\n",
    "    \n",
    "    plt.subplot(212)\n",
    "    sns.distplot( x, kde=False, rug=True,bins=int(380/5), color = 'blue',hist_kws={'edgecolor':'black'})\n",
    "    # Get the fitted parameters used by the function\n",
    "    (mu, sigma) = norm.fit(x)\n",
    "    print( '\\n mu = {:.2f} and sigma = {:.2f}\\n'.format(mu, sigma))\n",
    "    plt.legend(['Normal dist. ($\\mu=$ {:.2f} and $\\sigma=$ {:.2f} )'.format(mu, sigma)],loc='best')\n",
    "    plt.ylabel('Frequency')\n",
    "    plt.title(df2.columns.values[i])\n",
    "    plt.show()\n"
   ]
  },
  {
   "cell_type": "markdown",
   "metadata": {},
   "source": [
    "Looks like a normal distribution? Not quite! Looking at the kurtosis score, we can see that there is not a very nice peak. "
   ]
  },
  {
   "cell_type": "markdown",
   "metadata": {},
   "source": [
    "#  Binning\n",
    "**Why binning?** \n",
    "<div>Binning is a process of transforming continuous numerical variables into discrete categorical 'bins', for grouped analysis.\n",
    " </div>\n"
   ]
  },
  {
   "cell_type": "code",
   "execution_count": 24,
   "metadata": {},
   "outputs": [],
   "source": [
    "#df['stockwerk']=df['stockwerk'].astype(float,copy=True)\n",
    "#bindwidth=(max(df['stockwerk'])-min(df['stockwerk']))/4\n",
    "#bins=np.arange(min(df['stockwerk']),max(df['stockwerk']),bindwidth)\n",
    "#group_names=['low','medium','high']\n",
    "#df['Stockwerk_bins']=pd.cut(df['stockwerk'],bins,labels=group_names,include_lowest=True)"
   ]
  },
  {
   "cell_type": "markdown",
   "metadata": {},
   "source": [
    "# Bins visualization\n",
    "\n",
    "Normally, a histogram is used to visualize the distribution of bins we created above.\n"
   ]
  },
  {
   "cell_type": "code",
   "execution_count": 25,
   "metadata": {},
   "outputs": [
    {
     "name": "stdout",
     "output_type": "stream",
     "text": [
      "Unique of Stockwerk 39\n"
     ]
    }
   ],
   "source": [
    "print('Unique of Stockwerk',len(df2['stockwerk'].unique()))"
   ]
  },
  {
   "cell_type": "code",
   "execution_count": 26,
   "metadata": {},
   "outputs": [
    {
     "data": {
      "text/plain": [
       "Text(0.5, 1.0, 'Stockwerk bins')"
      ]
     },
     "execution_count": 26,
     "metadata": {},
     "output_type": "execute_result"
    },
    {
     "data": {
      "image/png": "[encoded data removed]",
      "text/plain": [
       "<Figure size 432x288 with 1 Axes>"
      ]
     },
     "metadata": {},
     "output_type": "display_data"
    }
   ],
   "source": [
    "%matplotlib inline\n",
    "import matplotlib as plt\n",
    "from matplotlib import pyplot\n",
    "plt.pyplot.hist(df2['stockwerk'],bins=39)\n",
    "plt.pyplot.xlabel('Stockwerk')\n",
    "plt.pyplot.ylabel('Counts')\n",
    "plt.pyplot.title('Stockwerk bins')"
   ]
  },
  {
   "cell_type": "code",
   "execution_count": 36,
   "metadata": {},
   "outputs": [
    {
     "name": "stdout",
     "output_type": "stream",
     "text": [
      "Unique of zustand 8\n"
     ]
    }
   ],
   "source": [
    "print('Unique of zustand',len(df2['zustand'].unique()))"
   ]
  },
  {
   "cell_type": "code",
   "execution_count": 38,
   "metadata": {},
   "outputs": [
    {
     "name": "stdout",
     "output_type": "stream",
     "text": [
      "Unique of Zimmer 54\n"
     ]
    }
   ],
   "source": [
    "print('Unique of Zimmer',len(df2['zimmer'].unique()))"
   ]
  },
  {
   "cell_type": "code",
   "execution_count": 39,
   "metadata": {},
   "outputs": [
    {
     "data": {
      "text/plain": [
       "Text(0.5, 1.0, 'Zimmer bin')"
      ]
     },
     "execution_count": 39,
     "metadata": {},
     "output_type": "execute_result"
    },
    {
     "data": {
      "image/png": "[encoded data removed]",
      "text/plain": [
       "<Figure size 432x288 with 1 Axes>"
      ]
     },
     "metadata": {},
     "output_type": "display_data"
    }
   ],
   "source": [
    "plt.pyplot.hist(df2['zimmer'],bins=54)\n",
    "plt.pyplot.xlabel('Zimmer')\n",
    "plt.pyplot.ylabel('counts')\n",
    "plt.pyplot.title('Zimmer bin')"
   ]
  },
  {
   "cell_type": "markdown",
   "metadata": {},
   "source": [
    "# Type of variables\n",
    "for example, we can define the type of  variables  \"int64\" or \"float64\" using the method \"dtypes\":"
   ]
  },
  {
   "cell_type": "code",
   "execution_count": 40,
   "metadata": {},
   "outputs": [
    {
     "data": {
      "text/plain": [
       "preis        float64\n",
       "flaeche      float64\n",
       "baujahr      float64\n",
       "stockwerk    float64\n",
       "zimmer       float64\n",
       "pqm          float64\n",
       "zustand       object\n",
       "dtype: object"
      ]
     },
     "execution_count": 40,
     "metadata": {},
     "output_type": "execute_result"
    }
   ],
   "source": [
    "df2.dtypes"
   ]
  },
  {
   "cell_type": "markdown",
   "metadata": {},
   "source": [
    "# Continuous numerical variables: \n",
    "\n",
    "Continuous numerical variables are variables that may contain any value within some range. Continuous numerical variables can have the type \"int64\" or \"float64\". A great way to visualize these variables is by using scatterplots with fitted lines. \n",
    "\n",
    "In order to start understanding the (linear) relationship between an individual variable and the price. We can do this by using \"regplot\", which plots the scatterplot plus the fitted regression line for the data."
   ]
  },
  {
   "cell_type": "markdown",
   "metadata": {},
   "source": [
    "# Positive linear relationship"
   ]
  },
  {
   "cell_type": "markdown",
   "metadata": {},
   "source": [
    "Let's find the scatterplot of \"flaeche\" and \"zimmer\" "
   ]
  },
  {
   "cell_type": "code",
   "execution_count": 42,
   "metadata": {},
   "outputs": [
    {
     "name": "stderr",
     "output_type": "stream",
     "text": [
      "C:\\Users\\ziaeeamir\\AppData\\Local\\Continuum\\anaconda3\\lib\\site-packages\\scipy\\stats\\stats.py:1706: FutureWarning: Using a non-tuple sequence for multidimensional indexing is deprecated; use `arr[tuple(seq)]` instead of `arr[seq]`. In the future this will be interpreted as an array index, `arr[np.array(seq)]`, which will result either in an error or a different result.\n",
      "  return np.add.reduce(sorted[indexer] * weights, axis=axis) / sumval\n"
     ]
    },
    {
     "data": {
      "text/plain": [
       "<matplotlib.axes._subplots.AxesSubplot at 0x1df0a50c358>"
      ]
     },
     "execution_count": 42,
     "metadata": {},
     "output_type": "execute_result"
    },
    {
     "data": {
      "image/png": "[encoded data removed]",
      "text/plain": [
       "<Figure size 432x288 with 1 Axes>"
      ]
     },
     "metadata": {},
     "output_type": "display_data"
    }
   ],
   "source": [
    "sns.regplot(x=\"flaeche\", y=\"zimmer\", data=df2)\n",
    "#plt.ylim(0,)"
   ]
  },
  {
   "cell_type": "code",
   "execution_count": 43,
   "metadata": {},
   "outputs": [
    {
     "data": {
      "text/html": [
       "<div>\n",
       "<style scoped>\n",
       "    .dataframe tbody tr th:only-of-type {\n",
       "        vertical-align: middle;\n",
       "    }\n",
       "\n",
       "    .dataframe tbody tr th {\n",
       "        vertical-align: top;\n",
       "    }\n",
       "\n",
       "    .dataframe thead th {\n",
       "        text-align: right;\n",
       "    }\n",
       "</style>\n",
       "<table border=\"1\" class=\"dataframe\">\n",
       "  <thead>\n",
       "    <tr style=\"text-align: right;\">\n",
       "      <th></th>\n",
       "      <th>flaeche</th>\n",
       "      <th>zimmer</th>\n",
       "    </tr>\n",
       "  </thead>\n",
       "  <tbody>\n",
       "    <tr>\n",
       "      <th>flaeche</th>\n",
       "      <td>1.00000</td>\n",
       "      <td>0.44555</td>\n",
       "    </tr>\n",
       "    <tr>\n",
       "      <th>zimmer</th>\n",
       "      <td>0.44555</td>\n",
       "      <td>1.00000</td>\n",
       "    </tr>\n",
       "  </tbody>\n",
       "</table>\n",
       "</div>"
      ],
      "text/plain": [
       "         flaeche   zimmer\n",
       "flaeche  1.00000  0.44555\n",
       "zimmer   0.44555  1.00000"
      ]
     },
     "execution_count": 43,
     "metadata": {},
     "output_type": "execute_result"
    }
   ],
   "source": [
    "df2[['flaeche', 'zimmer']].corr()"
   ]
  },
  {
   "cell_type": "markdown",
   "metadata": {},
   "source": [
    "# Negative linear relationship"
   ]
  },
  {
   "cell_type": "code",
   "execution_count": 44,
   "metadata": {},
   "outputs": [
    {
     "name": "stderr",
     "output_type": "stream",
     "text": [
      "C:\\Users\\ziaeeamir\\AppData\\Local\\Continuum\\anaconda3\\lib\\site-packages\\scipy\\stats\\stats.py:1706: FutureWarning: Using a non-tuple sequence for multidimensional indexing is deprecated; use `arr[tuple(seq)]` instead of `arr[seq]`. In the future this will be interpreted as an array index, `arr[np.array(seq)]`, which will result either in an error or a different result.\n",
      "  return np.add.reduce(sorted[indexer] * weights, axis=axis) / sumval\n"
     ]
    },
    {
     "data": {
      "text/plain": [
       "<matplotlib.axes._subplots.AxesSubplot at 0x1df0a3facc0>"
      ]
     },
     "execution_count": 44,
     "metadata": {},
     "output_type": "execute_result"
    },
    {
     "data": {
      "image/png": "[encoded data removed]",
      "text/plain": [
       "<Figure size 432x288 with 1 Axes>"
      ]
     },
     "metadata": {},
     "output_type": "display_data"
    }
   ],
   "source": [
    "sns.regplot(x=\"flaeche\", y=\"stockwerk\", data=df2)"
   ]
  },
  {
   "cell_type": "markdown",
   "metadata": {},
   "source": [
    "As the stockwerk goes up, the flaeche goes down: this indicates an inverse/ negative relationship between these two variables."
   ]
  },
  {
   "cell_type": "code",
   "execution_count": 45,
   "metadata": {},
   "outputs": [
    {
     "data": {
      "text/html": [
       "<div>\n",
       "<style scoped>\n",
       "    .dataframe tbody tr th:only-of-type {\n",
       "        vertical-align: middle;\n",
       "    }\n",
       "\n",
       "    .dataframe tbody tr th {\n",
       "        vertical-align: top;\n",
       "    }\n",
       "\n",
       "    .dataframe thead th {\n",
       "        text-align: right;\n",
       "    }\n",
       "</style>\n",
       "<table border=\"1\" class=\"dataframe\">\n",
       "  <thead>\n",
       "    <tr style=\"text-align: right;\">\n",
       "      <th></th>\n",
       "      <th>flaeche</th>\n",
       "      <th>stockwerk</th>\n",
       "    </tr>\n",
       "  </thead>\n",
       "  <tbody>\n",
       "    <tr>\n",
       "      <th>flaeche</th>\n",
       "      <td>1.000000</td>\n",
       "      <td>-0.046421</td>\n",
       "    </tr>\n",
       "    <tr>\n",
       "      <th>stockwerk</th>\n",
       "      <td>-0.046421</td>\n",
       "      <td>1.000000</td>\n",
       "    </tr>\n",
       "  </tbody>\n",
       "</table>\n",
       "</div>"
      ],
      "text/plain": [
       "            flaeche  stockwerk\n",
       "flaeche    1.000000  -0.046421\n",
       "stockwerk -0.046421   1.000000"
      ]
     },
     "execution_count": 45,
     "metadata": {},
     "output_type": "execute_result"
    }
   ],
   "source": [
    "df2[['flaeche','stockwerk']].corr()"
   ]
  },
  {
   "cell_type": "markdown",
   "metadata": {},
   "source": [
    "# Categorical variables\n",
    "\n",
    "These are variables that describe a 'characteristic' of a data unit, and are selected from a small group of categories. The categorical variables can have the type \"object\" or \"int64\". A good way to visualize categorical variables is by using boxplots."
   ]
  },
  {
   "cell_type": "code",
   "execution_count": 46,
   "metadata": {},
   "outputs": [
    {
     "data": {
      "text/plain": [
       "<matplotlib.axes._subplots.AxesSubplot at 0x1df0a090ac8>"
      ]
     },
     "execution_count": 46,
     "metadata": {},
     "output_type": "execute_result"
    },
    {
     "data": {
      "image/png": "[encoded data removed]",
      "text/plain": [
       "<Figure size 432x288 with 1 Axes>"
      ]
     },
     "metadata": {},
     "output_type": "display_data"
    }
   ],
   "source": [
    "sns.boxplot(x=\"zustand\", y=\"preis\", data=df2)"
   ]
  },
  {
   "cell_type": "markdown",
   "metadata": {},
   "source": [
    "We see that the distributions of price between the different zustand categories have a significant overlap, and so Zutand would not be a good predictor of price."
   ]
  },
  {
   "cell_type": "markdown",
   "metadata": {},
   "source": [
    "# Descriptive Statistical Analysis\n",
    "\n",
    "Let's first take a look at the variables by utilising a description method.\n",
    "\n",
    "The describe function automatically computes basic statistics for all continuous variables. Any NaN values are automatically skipped in these statistics.\n",
    "\n",
    "This will show:\n",
    "\n",
    "    the count of that variable\n",
    "    the mean\n",
    "    the standard deviation (std)\n",
    "    the minimum value\n",
    "    the IQR (Interquartile Range: 25%, 50% and 75%)\n",
    "    the maximum value\n",
    "\n",
    "We can apply the method \"describe\" as follows:\n"
   ]
  },
  {
   "cell_type": "code",
   "execution_count": 47,
   "metadata": {},
   "outputs": [
    {
     "data": {
      "text/html": [
       "<div>\n",
       "<style scoped>\n",
       "    .dataframe tbody tr th:only-of-type {\n",
       "        vertical-align: middle;\n",
       "    }\n",
       "\n",
       "    .dataframe tbody tr th {\n",
       "        vertical-align: top;\n",
       "    }\n",
       "\n",
       "    .dataframe thead th {\n",
       "        text-align: right;\n",
       "    }\n",
       "</style>\n",
       "<table border=\"1\" class=\"dataframe\">\n",
       "  <thead>\n",
       "    <tr style=\"text-align: right;\">\n",
       "      <th></th>\n",
       "      <th>preis</th>\n",
       "      <th>flaeche</th>\n",
       "      <th>baujahr</th>\n",
       "      <th>stockwerk</th>\n",
       "      <th>zimmer</th>\n",
       "      <th>pqm</th>\n",
       "    </tr>\n",
       "  </thead>\n",
       "  <tbody>\n",
       "    <tr>\n",
       "      <th>count</th>\n",
       "      <td>2.112950e+05</td>\n",
       "      <td>211295.000000</td>\n",
       "      <td>211295.000000</td>\n",
       "      <td>211295.000000</td>\n",
       "      <td>211295.000000</td>\n",
       "      <td>2.112950e+05</td>\n",
       "    </tr>\n",
       "    <tr>\n",
       "      <th>mean</th>\n",
       "      <td>1.116099e-05</td>\n",
       "      <td>0.097198</td>\n",
       "      <td>0.942277</td>\n",
       "      <td>0.061624</td>\n",
       "      <td>0.020833</td>\n",
       "      <td>1.906726e-05</td>\n",
       "    </tr>\n",
       "    <tr>\n",
       "      <th>std</th>\n",
       "      <td>2.725020e-03</td>\n",
       "      <td>0.048132</td>\n",
       "      <td>0.043717</td>\n",
       "      <td>0.035309</td>\n",
       "      <td>0.017197</td>\n",
       "      <td>3.977084e-03</td>\n",
       "    </tr>\n",
       "    <tr>\n",
       "      <th>min</th>\n",
       "      <td>0.000000e+00</td>\n",
       "      <td>0.000000</td>\n",
       "      <td>0.000000</td>\n",
       "      <td>0.000000</td>\n",
       "      <td>0.000000</td>\n",
       "      <td>0.000000e+00</td>\n",
       "    </tr>\n",
       "    <tr>\n",
       "      <th>25%</th>\n",
       "      <td>3.546495e-10</td>\n",
       "      <td>0.066709</td>\n",
       "      <td>0.941694</td>\n",
       "      <td>0.043478</td>\n",
       "      <td>0.010638</td>\n",
       "      <td>6.527715e-10</td>\n",
       "    </tr>\n",
       "    <tr>\n",
       "      <th>50%</th>\n",
       "      <td>5.353200e-10</td>\n",
       "      <td>0.093677</td>\n",
       "      <td>0.941694</td>\n",
       "      <td>0.043478</td>\n",
       "      <td>0.021277</td>\n",
       "      <td>9.453302e-10</td>\n",
       "    </tr>\n",
       "    <tr>\n",
       "      <th>75%</th>\n",
       "      <td>8.832780e-10</td>\n",
       "      <td>0.109359</td>\n",
       "      <td>0.974697</td>\n",
       "      <td>0.065217</td>\n",
       "      <td>0.021277</td>\n",
       "      <td>1.340553e-09</td>\n",
       "    </tr>\n",
       "    <tr>\n",
       "      <th>max</th>\n",
       "      <td>1.000000e+00</td>\n",
       "      <td>1.000000</td>\n",
       "      <td>1.000000</td>\n",
       "      <td>1.000000</td>\n",
       "      <td>1.000000</td>\n",
       "      <td>1.000000e+00</td>\n",
       "    </tr>\n",
       "  </tbody>\n",
       "</table>\n",
       "</div>"
      ],
      "text/plain": [
       "              preis        flaeche        baujahr      stockwerk  \\\n",
       "count  2.112950e+05  211295.000000  211295.000000  211295.000000   \n",
       "mean   1.116099e-05       0.097198       0.942277       0.061624   \n",
       "std    2.725020e-03       0.048132       0.043717       0.035309   \n",
       "min    0.000000e+00       0.000000       0.000000       0.000000   \n",
       "25%    3.546495e-10       0.066709       0.941694       0.043478   \n",
       "50%    5.353200e-10       0.093677       0.941694       0.043478   \n",
       "75%    8.832780e-10       0.109359       0.974697       0.065217   \n",
       "max    1.000000e+00       1.000000       1.000000       1.000000   \n",
       "\n",
       "              zimmer           pqm  \n",
       "count  211295.000000  2.112950e+05  \n",
       "mean        0.020833  1.906726e-05  \n",
       "std         0.017197  3.977084e-03  \n",
       "min         0.000000  0.000000e+00  \n",
       "25%         0.010638  6.527715e-10  \n",
       "50%         0.021277  9.453302e-10  \n",
       "75%         0.021277  1.340553e-09  \n",
       "max         1.000000  1.000000e+00  "
      ]
     },
     "execution_count": 47,
     "metadata": {},
     "output_type": "execute_result"
    }
   ],
   "source": [
    "df2.describe()"
   ]
  },
  {
   "cell_type": "markdown",
   "metadata": {},
   "source": [
    "Value-counts is a good way of understanding how many units of each characteristic/variable we have. We can apply the \"value_counts\" method on the column   'zustand'. Don’t forget the method \"value_counts\" only works on Pandas series, not Pandas Dataframes. As a result, we only include one bracket  \"df['zustand']\" not two brackets \"df[['zustand']]\".\n"
   ]
  },
  {
   "cell_type": "code",
   "execution_count": 48,
   "metadata": {},
   "outputs": [
    {
     "data": {
      "text/html": [
       "<div>\n",
       "<style scoped>\n",
       "    .dataframe tbody tr th:only-of-type {\n",
       "        vertical-align: middle;\n",
       "    }\n",
       "\n",
       "    .dataframe tbody tr th {\n",
       "        vertical-align: top;\n",
       "    }\n",
       "\n",
       "    .dataframe thead th {\n",
       "        text-align: right;\n",
       "    }\n",
       "</style>\n",
       "<table border=\"1\" class=\"dataframe\">\n",
       "  <thead>\n",
       "    <tr style=\"text-align: right;\">\n",
       "      <th></th>\n",
       "      <th>zustand_count</th>\n",
       "    </tr>\n",
       "    <tr>\n",
       "      <th>zustand</th>\n",
       "      <th></th>\n",
       "    </tr>\n",
       "  </thead>\n",
       "  <tbody>\n",
       "    <tr>\n",
       "      <th>erstbezug nach neubau</th>\n",
       "      <td>94259</td>\n",
       "    </tr>\n",
       "    <tr>\n",
       "      <th>erstbezug nach sanierung</th>\n",
       "      <td>38896</td>\n",
       "    </tr>\n",
       "    <tr>\n",
       "      <th>sehr gut</th>\n",
       "      <td>37681</td>\n",
       "    </tr>\n",
       "    <tr>\n",
       "      <th>gut</th>\n",
       "      <td>20510</td>\n",
       "    </tr>\n",
       "    <tr>\n",
       "      <th>schlecht</th>\n",
       "      <td>13447</td>\n",
       "    </tr>\n",
       "    <tr>\n",
       "      <th>erstbezug</th>\n",
       "      <td>3709</td>\n",
       "    </tr>\n",
       "    <tr>\n",
       "      <th>sehr gut/gut</th>\n",
       "      <td>2791</td>\n",
       "    </tr>\n",
       "    <tr>\n",
       "      <th>rohbau</th>\n",
       "      <td>2</td>\n",
       "    </tr>\n",
       "  </tbody>\n",
       "</table>\n",
       "</div>"
      ],
      "text/plain": [
       "                          zustand_count\n",
       "zustand                                \n",
       "erstbezug nach neubau             94259\n",
       "erstbezug nach sanierung          38896\n",
       "sehr gut                          37681\n",
       "gut                               20510\n",
       "schlecht                          13447\n",
       "erstbezug                          3709\n",
       "sehr gut/gut                       2791\n",
       "rohbau                                2"
      ]
     },
     "execution_count": 48,
     "metadata": {},
     "output_type": "execute_result"
    }
   ],
   "source": [
    "zustand_counts=df2['zustand'].value_counts().to_frame()\n",
    "zustand_counts.rename(columns={'zustand':'zustand_count'},inplace=True)\n",
    "zustand_counts.index.name='zustand'\n",
    "zustand_counts"
   ]
  },
  {
   "cell_type": "markdown",
   "metadata": {},
   "source": [
    "# Basic of Grouping\n",
    " \n",
    "The \"groupby\" method groups data by different categories. The data is grouped based on one or several variables and analysis is performed on the individual groups.\n",
    "\n",
    "For example, let's group by the variable \"zustand\". We see that there are 8 different categories of zustand"
   ]
  },
  {
   "cell_type": "code",
   "execution_count": 49,
   "metadata": {},
   "outputs": [
    {
     "name": "stdout",
     "output_type": "stream",
     "text": [
      "['schlecht' 'erstbezug nach neubau' 'sehr gut' 'gut'\n",
      " 'erstbezug nach sanierung' 'rohbau' 'erstbezug' 'sehr gut/gut']\n",
      "Unique zustand; 8\n",
      "unique zimmer: 54\n"
     ]
    }
   ],
   "source": [
    "print(df2['zustand'].unique())\n",
    "print('Unique zustand;',len(df2['zustand'].unique()))\n",
    "print('unique zimmer:',len(df2['zimmer'].unique()))\n"
   ]
  },
  {
   "cell_type": "code",
   "execution_count": 50,
   "metadata": {},
   "outputs": [
    {
     "name": "stdout",
     "output_type": "stream",
     "text": [
      "zustand       sehr gut\n",
      "preis      3.96109e-05\n",
      "Name: 6, dtype: object\n",
      "                    zustand         preis\n",
      "0                 erstbezug  1.125635e-09\n",
      "1     erstbezug nach neubau  1.406949e-09\n",
      "2  erstbezug nach sanierung  1.604694e-05\n",
      "3                       gut  1.176861e-05\n",
      "4                    rohbau  9.368100e-10\n",
      "5                  schlecht  4.185236e-10\n",
      "6                  sehr gut  3.961094e-05\n",
      "7              sehr gut/gut  8.451772e-10\n"
     ]
    }
   ],
   "source": [
    "df_group_one=df2[['preis','zustand']]\n",
    "df_group_one=df_group_one.groupby(['zustand'],as_index=False).mean()\n",
    "#grouped_pivot=df_group_one.pivot(index='zustand',columns='zimmer')\n",
    "#grouped_pivot.fillna(value=0)\n",
    "print(df_group_one.loc[df_group_one['preis'].idxmax()])\n",
    "print(df_group_one)"
   ]
  },
  {
   "cell_type": "markdown",
   "metadata": {},
   "source": [
    "From our data, it seems 'sehr gut' are, on average, the most expensive, ' erstbezug nach neubau' and 'erstbezug ' are approximately the same in price"
   ]
  },
  {
   "cell_type": "markdown",
   "metadata": {},
   "source": [
    "# Correlation and Causation"
   ]
  },
  {
   "cell_type": "markdown",
   "metadata": {},
   "source": [
    "**Correlation**: a measure of the extent of interdependence between variables.\n",
    "\n",
    "**Causation**: the relationship between cause and effect between two variables.\n",
    "\n",
    "It is important to know the difference between these two and that correlation does not imply causation. Determining  correlation is much simpler  the determining causation as causation may require independent experimentation "
   ]
  },
  {
   "cell_type": "markdown",
   "metadata": {},
   "source": [
    "## Pearson Correlation\n",
    "The Pearson Correlation measures the linear dependence between two variables X and Y.\n",
    "The resulting coefficient is a value between -1 and 1 inclusive, where:\n",
    "- **1**: total positive linear correlation,\n",
    "- **0**: no linear correlation, the two variables most likely do not affect each other\n",
    "- **-1**: total negative linear correlation.\n"
   ]
  },
  {
   "cell_type": "code",
   "execution_count": 52,
   "metadata": {},
   "outputs": [
    {
     "data": {
      "text/plain": [
       "<matplotlib.axes._subplots.AxesSubplot at 0x1df0a9b7518>"
      ]
     },
     "execution_count": 52,
     "metadata": {},
     "output_type": "execute_result"
    },
    {
     "data": {
      "image/png": "[encoded data removed]",
      "text/plain": [
       "<Figure size 648x648 with 2 Axes>"
      ]
     },
     "metadata": {},
     "output_type": "display_data"
    }
   ],
   "source": [
    "df3=pd.read_csv(str(os.getcwd())+\"/MyData.csv\")\n",
    "df3.drop(labels='Unnamed: 0',axis=1,inplace=True)\n",
    "from matplotlib import pyplot as pl\n",
    "\n",
    "\n",
    "f, ax = pl.subplots(figsize=(9, 9))\n",
    "corr = df3.corr()\n",
    "sns.heatmap(corr, mask=np.zeros_like(corr, dtype=np.bool), cmap=sns.diverging_palette(220, 10, as_cmap=True),\n",
    "            square=True, ax=ax)"
   ]
  },
  {
   "cell_type": "markdown",
   "metadata": {},
   "source": [
    "**As youn now see above, there are not very signinificant evidence that shows a correlation between variables and preis uín the dataset **"
   ]
  },
  {
   "cell_type": "markdown",
   "metadata": {},
   "source": [
    "\n",
    "\n",
    "It's a nice overview, but  is that a lot of data to look at. Let's zoom into the top 10 features most related to Price.\n"
   ]
  },
  {
   "cell_type": "code",
   "execution_count": 53,
   "metadata": {},
   "outputs": [
    {
     "data": {
      "image/png": "[encoded data removed]",
      "text/plain": [
       "<Figure size 432x288 with 2 Axes>"
      ]
     },
     "metadata": {},
     "output_type": "display_data"
    }
   ],
   "source": [
    "k = 10 #number of variables for heatmap\n",
    "cols = corr.nlargest(k, 'preis')['preis'].index\n",
    "cm = np.corrcoef(df3[cols].values.T)\n",
    "sns.set(font_scale=1.25)\n",
    "hm = sns.heatmap(cm, cbar=True, annot=True, square=True, fmt='.2f', annot_kws={'size': 10}, yticklabels=cols.values, xticklabels=cols.values)\n",
    "\n"
   ]
  },
  {
   "cell_type": "markdown",
   "metadata": {},
   "source": [
    " sometimes we would like to know the significant of the correlation estimate. "
   ]
  },
  {
   "cell_type": "markdown",
   "metadata": {},
   "source": [
    "# **P-value**: \n",
    "What is this P-value? The P-value is the probability value that the correlation between these two variables is statistically significant. Normally, we choose a significance level of 0.05, which means that we are 95% confident that the correlation between the variables is significant. \n",
    "\n",
    "By convention, when the \n",
    "- p-value is < 0.001 we say there is strong evidence that the correlation is significant,\n",
    "- the p-value is < 0.05; there is moderate evidence that the correlation is significant,\n",
    "- the p-value is < 0.1; there is weak evidence that the correlation is significant, and\n",
    "- the p-value is > 0.1; there is no evidence that the correlation is significant."
   ]
  },
  {
   "cell_type": "code",
   "execution_count": 54,
   "metadata": {},
   "outputs": [],
   "source": [
    "from scipy import stats"
   ]
  },
  {
   "cell_type": "code",
   "execution_count": 55,
   "metadata": {},
   "outputs": [
    {
     "name": "stdout",
     "output_type": "stream",
     "text": [
      "The Pearson Correlation Coefficient is 0.0003918740397303427  with a P-value of P = 0.857049696390342\n"
     ]
    }
   ],
   "source": [
    "pearson_coef, p_value = stats.pearsonr(df2['zimmer'], df2['preis'])\n",
    "print(\"The Pearson Correlation Coefficient is\", pearson_coef, \" with a P-value of P =\", p_value)  "
   ]
  },
  {
   "cell_type": "markdown",
   "metadata": {},
   "source": [
    "**Conclusion: **\n",
    "\n",
    "Since the p-value is > 0.1, the correlation between zimmer and preis is not statistically significant\n"
   ]
  },
  {
   "cell_type": "markdown",
   "metadata": {},
   "source": [
    "# ANOVA: Analysis of Variance\n",
    "The Analysis of Variance  (ANOVA) is a statistical method used to test whether there are significant differences between the means of two or more groups. ANOVA returns two parameters:\n",
    "\n",
    "**F-test score**: ANOVA assumes the means of all groups are the same, calculates how much the actual means deviate from the assumption, and reports it as the F-test score. A larger score means there is a larger difference between the means.\n",
    "\n",
    "**P-value**:  P-value tells how statistically significant is our calculated score value\n",
    "\n",
    "If our price variable is strongly correlated with the variable we are analyzing, expect ANOVA to return a sizeable F-test score and a small p-value."
   ]
  },
  {
   "cell_type": "markdown",
   "metadata": {},
   "source": [
    "## Zustand\n",
    "Since ANOVA analyzes the difference between different groups of the same variable, the groupby function will come in handy. Because the ANOVA algorithm averages the data automatically, we do not need to take the average before hand."
   ]
  },
  {
   "cell_type": "code",
   "execution_count": 56,
   "metadata": {},
   "outputs": [
    {
     "data": {
      "text/html": [
       "<div>\n",
       "<style scoped>\n",
       "    .dataframe tbody tr th:only-of-type {\n",
       "        vertical-align: middle;\n",
       "    }\n",
       "\n",
       "    .dataframe tbody tr th {\n",
       "        vertical-align: top;\n",
       "    }\n",
       "\n",
       "    .dataframe thead th {\n",
       "        text-align: right;\n",
       "    }\n",
       "</style>\n",
       "<table border=\"1\" class=\"dataframe\">\n",
       "  <thead>\n",
       "    <tr style=\"text-align: right;\">\n",
       "      <th></th>\n",
       "      <th>zustand</th>\n",
       "      <th>preis</th>\n",
       "    </tr>\n",
       "  </thead>\n",
       "  <tbody>\n",
       "    <tr>\n",
       "      <th>0</th>\n",
       "      <td>schlecht</td>\n",
       "      <td>1.115250e-10</td>\n",
       "    </tr>\n",
       "    <tr>\n",
       "      <th>1</th>\n",
       "      <td>erstbezug nach neubau</td>\n",
       "      <td>2.118975e-10</td>\n",
       "    </tr>\n",
       "    <tr>\n",
       "      <th>2</th>\n",
       "      <td>schlecht</td>\n",
       "      <td>2.118975e-10</td>\n",
       "    </tr>\n",
       "    <tr>\n",
       "      <th>3</th>\n",
       "      <td>sehr gut</td>\n",
       "      <td>2.007450e-10</td>\n",
       "    </tr>\n",
       "    <tr>\n",
       "      <th>4</th>\n",
       "      <td>sehr gut</td>\n",
       "      <td>6.245400e-10</td>\n",
       "    </tr>\n",
       "    <tr>\n",
       "      <th>5</th>\n",
       "      <td>sehr gut</td>\n",
       "      <td>6.245400e-10</td>\n",
       "    </tr>\n",
       "    <tr>\n",
       "      <th>6</th>\n",
       "      <td>gut</td>\n",
       "      <td>1.672875e-10</td>\n",
       "    </tr>\n",
       "    <tr>\n",
       "      <th>7</th>\n",
       "      <td>gut</td>\n",
       "      <td>2.118975e-10</td>\n",
       "    </tr>\n",
       "    <tr>\n",
       "      <th>8</th>\n",
       "      <td>sehr gut</td>\n",
       "      <td>3.680325e-10</td>\n",
       "    </tr>\n",
       "    <tr>\n",
       "      <th>9</th>\n",
       "      <td>erstbezug nach sanierung</td>\n",
       "      <td>1.757634e-10</td>\n",
       "    </tr>\n",
       "    <tr>\n",
       "      <th>10</th>\n",
       "      <td>sehr gut</td>\n",
       "      <td>3.122700e-10</td>\n",
       "    </tr>\n",
       "    <tr>\n",
       "      <th>11</th>\n",
       "      <td>schlecht</td>\n",
       "      <td>7.806750e-11</td>\n",
       "    </tr>\n",
       "    <tr>\n",
       "      <th>13</th>\n",
       "      <td>schlecht</td>\n",
       "      <td>3.769545e-10</td>\n",
       "    </tr>\n",
       "    <tr>\n",
       "      <th>14</th>\n",
       "      <td>schlecht</td>\n",
       "      <td>2.185890e-10</td>\n",
       "    </tr>\n",
       "    <tr>\n",
       "      <th>17</th>\n",
       "      <td>gut</td>\n",
       "      <td>1.026030e-10</td>\n",
       "    </tr>\n",
       "    <tr>\n",
       "      <th>18</th>\n",
       "      <td>gut</td>\n",
       "      <td>4.795575e-10</td>\n",
       "    </tr>\n",
       "    <tr>\n",
       "      <th>19</th>\n",
       "      <td>gut</td>\n",
       "      <td>3.055785e-10</td>\n",
       "    </tr>\n",
       "    <tr>\n",
       "      <th>23</th>\n",
       "      <td>erstbezug nach sanierung</td>\n",
       "      <td>1.115250e-09</td>\n",
       "    </tr>\n",
       "    <tr>\n",
       "      <th>25</th>\n",
       "      <td>erstbezug nach sanierung</td>\n",
       "      <td>3.992595e-10</td>\n",
       "    </tr>\n",
       "    <tr>\n",
       "      <th>28</th>\n",
       "      <td>erstbezug nach sanierung</td>\n",
       "      <td>4.237950e-10</td>\n",
       "    </tr>\n",
       "    <tr>\n",
       "      <th>29</th>\n",
       "      <td>erstbezug nach sanierung</td>\n",
       "      <td>2.230500e-10</td>\n",
       "    </tr>\n",
       "    <tr>\n",
       "      <th>31</th>\n",
       "      <td>erstbezug nach neubau</td>\n",
       "      <td>2.001428e-09</td>\n",
       "    </tr>\n",
       "    <tr>\n",
       "      <th>53</th>\n",
       "      <td>erstbezug nach neubau</td>\n",
       "      <td>6.468450e-11</td>\n",
       "    </tr>\n",
       "    <tr>\n",
       "      <th>59</th>\n",
       "      <td>erstbezug nach neubau</td>\n",
       "      <td>8.899695e-10</td>\n",
       "    </tr>\n",
       "    <tr>\n",
       "      <th>76</th>\n",
       "      <td>erstbezug nach neubau</td>\n",
       "      <td>2.185890e-10</td>\n",
       "    </tr>\n",
       "    <tr>\n",
       "      <th>20527</th>\n",
       "      <td>rohbau</td>\n",
       "      <td>1.561350e-09</td>\n",
       "    </tr>\n",
       "    <tr>\n",
       "      <th>24617</th>\n",
       "      <td>rohbau</td>\n",
       "      <td>3.122700e-10</td>\n",
       "    </tr>\n",
       "    <tr>\n",
       "      <th>84527</th>\n",
       "      <td>erstbezug</td>\n",
       "      <td>1.182165e-09</td>\n",
       "    </tr>\n",
       "    <tr>\n",
       "      <th>84529</th>\n",
       "      <td>sehr gut/gut</td>\n",
       "      <td>4.661745e-10</td>\n",
       "    </tr>\n",
       "    <tr>\n",
       "      <th>84562</th>\n",
       "      <td>sehr gut/gut</td>\n",
       "      <td>6.468450e-10</td>\n",
       "    </tr>\n",
       "    <tr>\n",
       "      <th>84564</th>\n",
       "      <td>sehr gut/gut</td>\n",
       "      <td>1.070640e-09</td>\n",
       "    </tr>\n",
       "    <tr>\n",
       "      <th>84565</th>\n",
       "      <td>erstbezug</td>\n",
       "      <td>4.416390e-09</td>\n",
       "    </tr>\n",
       "    <tr>\n",
       "      <th>84566</th>\n",
       "      <td>erstbezug</td>\n",
       "      <td>1.773247e-09</td>\n",
       "    </tr>\n",
       "    <tr>\n",
       "      <th>84580</th>\n",
       "      <td>sehr gut/gut</td>\n",
       "      <td>6.022350e-10</td>\n",
       "    </tr>\n",
       "    <tr>\n",
       "      <th>84583</th>\n",
       "      <td>erstbezug</td>\n",
       "      <td>5.308590e-09</td>\n",
       "    </tr>\n",
       "    <tr>\n",
       "      <th>84584</th>\n",
       "      <td>erstbezug</td>\n",
       "      <td>1.429750e-09</td>\n",
       "    </tr>\n",
       "    <tr>\n",
       "      <th>84586</th>\n",
       "      <td>sehr gut/gut</td>\n",
       "      <td>1.315995e-09</td>\n",
       "    </tr>\n",
       "  </tbody>\n",
       "</table>\n",
       "</div>"
      ],
      "text/plain": [
       "                        zustand         preis\n",
       "0                      schlecht  1.115250e-10\n",
       "1         erstbezug nach neubau  2.118975e-10\n",
       "2                      schlecht  2.118975e-10\n",
       "3                      sehr gut  2.007450e-10\n",
       "4                      sehr gut  6.245400e-10\n",
       "5                      sehr gut  6.245400e-10\n",
       "6                           gut  1.672875e-10\n",
       "7                           gut  2.118975e-10\n",
       "8                      sehr gut  3.680325e-10\n",
       "9      erstbezug nach sanierung  1.757634e-10\n",
       "10                     sehr gut  3.122700e-10\n",
       "11                     schlecht  7.806750e-11\n",
       "13                     schlecht  3.769545e-10\n",
       "14                     schlecht  2.185890e-10\n",
       "17                          gut  1.026030e-10\n",
       "18                          gut  4.795575e-10\n",
       "19                          gut  3.055785e-10\n",
       "23     erstbezug nach sanierung  1.115250e-09\n",
       "25     erstbezug nach sanierung  3.992595e-10\n",
       "28     erstbezug nach sanierung  4.237950e-10\n",
       "29     erstbezug nach sanierung  2.230500e-10\n",
       "31        erstbezug nach neubau  2.001428e-09\n",
       "53        erstbezug nach neubau  6.468450e-11\n",
       "59        erstbezug nach neubau  8.899695e-10\n",
       "76        erstbezug nach neubau  2.185890e-10\n",
       "20527                    rohbau  1.561350e-09\n",
       "24617                    rohbau  3.122700e-10\n",
       "84527                 erstbezug  1.182165e-09\n",
       "84529              sehr gut/gut  4.661745e-10\n",
       "84562              sehr gut/gut  6.468450e-10\n",
       "84564              sehr gut/gut  1.070640e-09\n",
       "84565                 erstbezug  4.416390e-09\n",
       "84566                 erstbezug  1.773247e-09\n",
       "84580              sehr gut/gut  6.022350e-10\n",
       "84583                 erstbezug  5.308590e-09\n",
       "84584                 erstbezug  1.429750e-09\n",
       "84586              sehr gut/gut  1.315995e-09"
      ]
     },
     "execution_count": 56,
     "metadata": {},
     "output_type": "execute_result"
    }
   ],
   "source": [
    "df_group_two=df2[['zustand','preis']]\n",
    "df_group_two=df_group_two.groupby(['zustand'],as_index=False)\n",
    "df_group_two.head()"
   ]
  },
  {
   "cell_type": "code",
   "execution_count": 57,
   "metadata": {},
   "outputs": [
    {
     "data": {
      "text/plain": [
       "1         2.118975e-10\n",
       "31        2.001428e-09\n",
       "53        6.468450e-11\n",
       "59        8.899695e-10\n",
       "76        2.185890e-10\n",
       "86        9.348761e-10\n",
       "87        1.123483e-09\n",
       "88        8.042424e-10\n",
       "89        6.459015e-10\n",
       "92        2.185890e-10\n",
       "98        3.100395e-10\n",
       "104       6.133875e-10\n",
       "107       1.092945e-09\n",
       "112       1.110789e-09\n",
       "120       1.494435e-10\n",
       "124       7.360650e-10\n",
       "129       5.833248e-10\n",
       "132       4.042915e-10\n",
       "133       7.058841e-10\n",
       "134       3.911605e-10\n",
       "147       1.556889e-09\n",
       "153       9.456338e-10\n",
       "161       8.715768e-10\n",
       "178       1.111333e-09\n",
       "180       8.548168e-10\n",
       "181       2.654295e-09\n",
       "184       4.535164e-10\n",
       "185       6.099704e-10\n",
       "186       1.024794e-09\n",
       "201       1.402538e-09\n",
       "              ...     \n",
       "211216    4.438695e-10\n",
       "211217    4.438695e-10\n",
       "211218    4.438695e-10\n",
       "211219    4.438695e-10\n",
       "211220    4.438695e-10\n",
       "211221    4.438695e-10\n",
       "211222    4.438695e-10\n",
       "211223    4.438695e-10\n",
       "211224    4.438695e-10\n",
       "211225    4.438695e-10\n",
       "211226    4.438695e-10\n",
       "211227    4.438695e-10\n",
       "211228    4.438695e-10\n",
       "211229    4.438695e-10\n",
       "211230    4.438695e-10\n",
       "211231    4.438695e-10\n",
       "211232    4.438695e-10\n",
       "211236    4.438695e-10\n",
       "211237    4.438695e-10\n",
       "211238    4.438695e-10\n",
       "211241    4.438695e-10\n",
       "211242    4.438695e-10\n",
       "211248    4.438695e-10\n",
       "211264    4.438695e-10\n",
       "211279    4.349475e-10\n",
       "211286    3.100395e-10\n",
       "211288    5.130150e-10\n",
       "211290    8.810475e-10\n",
       "211292    4.438695e-10\n",
       "211294    1.502799e-10\n",
       "Name: preis, Length: 94259, dtype: float64"
      ]
     },
     "execution_count": 57,
     "metadata": {},
     "output_type": "execute_result"
    }
   ],
   "source": [
    "df_group_two.get_group('erstbezug nach neubau')['preis']"
   ]
  },
  {
   "cell_type": "markdown",
   "metadata": {},
   "source": [
    "we can use the function 'f_oneway' in the module 'stats'  to obtain the **F-test score** and **P-value**."
   ]
  },
  {
   "cell_type": "code",
   "execution_count": 58,
   "metadata": {},
   "outputs": [
    {
     "name": "stdout",
     "output_type": "stream",
     "text": [
      "['schlecht' 'erstbezug nach neubau' 'sehr gut' 'gut'\n",
      " 'erstbezug nach sanierung' 'rohbau' 'erstbezug' 'sehr gut/gut']\n"
     ]
    }
   ],
   "source": [
    "print(df2['zustand'].unique())"
   ]
  },
  {
   "cell_type": "code",
   "execution_count": 59,
   "metadata": {},
   "outputs": [
    {
     "name": "stdout",
     "output_type": "stream",
     "text": [
      "ANOVA results: F= 2.423315558200445 , P = 0.11954405435085971\n"
     ]
    }
   ],
   "source": [
    "f_val,p_val=stats.f_oneway(df_group_two.get_group('erstbezug nach neubau')['preis']\n",
    "                           ,df_group_two.get_group('erstbezug nach sanierung')['preis'])\n",
    "print( \"ANOVA results: F=\", f_val, \", P =\", p_val )"
   ]
  },
  {
   "cell_type": "markdown",
   "metadata": {},
   "source": [
    "With a large F test score showing a strong correlation and a P value of almost 0 implying almost certain statistical significance. But does this mean all two tested groups are all this highly correlated? nein"
   ]
  },
  {
   "cell_type": "markdown",
   "metadata": {},
   "source": [
    "# Linear Regression  "
   ]
  },
  {
   "cell_type": "markdown",
   "metadata": {},
   "source": [
    "One example of a Data  Model that we will be using is \n",
    " **Simple Linear Regression**.\n",
    "Simple Linear Regression is a method to help us understand the relationship between two variables:\n",
    "- The predictor/independent variable (X)\n",
    "- The response/dependent variable (that we want to predict)(Y)\n",
    "\n",
    "\n",
    "The result of Linear Regression is a **linear function** that predicts the response (dependent) variable as a function of the predictor (independent) variable. "
   ]
  },
  {
   "cell_type": "markdown",
   "metadata": {},
   "source": [
    "\\begin{equation*}\n",
    " Y: Response \\ Variable\\\\\n",
    " X :Predictor\\ Variables\n",
    "\\end{equation*}\n"
   ]
  },
  {
   "cell_type": "markdown",
   "metadata": {},
   "source": [
    " **Linear function:**\n",
    "\\begin{equation*}\n",
    "Yhat = a + b  X\n",
    "\\end{equation*}"
   ]
  },
  {
   "cell_type": "markdown",
   "metadata": {},
   "source": [
    "- a refers to the **intercept** of the regression, in other words: the value of Y when X is 0 \n",
    "- b refers to the **slope** of the regression line, in other words: the value with which Y changes when X increases by 1.\n",
    "\n"
   ]
  },
  {
   "cell_type": "code",
   "execution_count": 60,
   "metadata": {},
   "outputs": [],
   "source": [
    "from sklearn.linear_model import LinearRegression"
   ]
  },
  {
   "cell_type": "code",
   "execution_count": 61,
   "metadata": {},
   "outputs": [
    {
     "data": {
      "text/plain": [
       "LinearRegression(copy_X=True, fit_intercept=True, n_jobs=1, normalize=False)"
      ]
     },
     "execution_count": 61,
     "metadata": {},
     "output_type": "execute_result"
    }
   ],
   "source": [
    "lm = LinearRegression()\n",
    "lm"
   ]
  },
  {
   "cell_type": "markdown",
   "metadata": {},
   "source": [
    "### How could pqm help us predict house price?"
   ]
  },
  {
   "cell_type": "markdown",
   "metadata": {},
   "source": [
    "For this example, we want to look at how pqm can help us predict  price.\n",
    "Using simple linear regression, we will create a linear function with \"pqm\" as the predictor variable and the \"price\" as the response variable."
   ]
  },
  {
   "cell_type": "code",
   "execution_count": 62,
   "metadata": {},
   "outputs": [
    {
     "name": "stdout",
     "output_type": "stream",
     "text": [
      "Preis:\n",
      "0    1.115250e-10\n",
      "1    2.118975e-10\n",
      "2    2.118975e-10\n",
      "3    2.007450e-10\n",
      "4    6.245400e-10\n",
      "Name: preis, dtype: float64\n"
     ]
    }
   ],
   "source": [
    "X = df2[['pqm']]\n",
    "Y = df2['preis']\n",
    "print('Preis:')\n",
    "print(Y[0:5])\n"
   ]
  },
  {
   "cell_type": "code",
   "execution_count": 63,
   "metadata": {},
   "outputs": [
    {
     "data": {
      "text/plain": [
       "LinearRegression(copy_X=True, fit_intercept=True, n_jobs=1, normalize=False)"
      ]
     },
     "execution_count": 63,
     "metadata": {},
     "output_type": "execute_result"
    }
   ],
   "source": [
    "lm.fit(X,Y)"
   ]
  },
  {
   "cell_type": "code",
   "execution_count": 64,
   "metadata": {},
   "outputs": [
    {
     "name": "stdout",
     "output_type": "stream",
     "text": [
      "Prediction Preis:\n",
      "[-4.51809163e-07 -4.51739976e-07 -4.51889895e-07 -4.51712767e-07\n",
      " -4.51323477e-07]\n"
     ]
    }
   ],
   "source": [
    "Yhat=lm.predict(X)\n",
    "print('Prediction Preis:')\n",
    "print(Yhat[0:5]) "
   ]
  },
  {
   "cell_type": "code",
   "execution_count": 65,
   "metadata": {},
   "outputs": [
    {
     "name": "stderr",
     "output_type": "stream",
     "text": [
      "C:\\Users\\ziaeeamir\\AppData\\Local\\Continuum\\anaconda3\\lib\\site-packages\\scipy\\stats\\stats.py:1706: FutureWarning: Using a non-tuple sequence for multidimensional indexing is deprecated; use `arr[tuple(seq)]` instead of `arr[seq]`. In the future this will be interpreted as an array index, `arr[np.array(seq)]`, which will result either in an error or a different result.\n",
      "  return np.add.reduce(sorted[indexer] * weights, axis=axis) / sumval\n"
     ]
    },
    {
     "data": {
      "text/plain": [
       "<matplotlib.axes._subplots.AxesSubplot at 0x1df03ae39b0>"
      ]
     },
     "execution_count": 65,
     "metadata": {},
     "output_type": "execute_result"
    },
    {
     "data": {
      "image/png": "[encoded data removed]",
      "text/plain": [
       "<Figure size 432x288 with 1 Axes>"
      ]
     },
     "metadata": {},
     "output_type": "display_data"
    }
   ],
   "source": [
    "sns.regplot(df2['pqm'],df2['preis'])\n"
   ]
  },
  {
   "cell_type": "markdown",
   "metadata": {},
   "source": [
    "### What are the values of the intercept and slope (a) ?"
   ]
  },
  {
   "cell_type": "code",
   "execution_count": 66,
   "metadata": {},
   "outputs": [
    {
     "name": "stdout",
     "output_type": "stream",
     "text": [
      "Intercept: -4.5205015265031113e-07\n",
      "Slope: [0.60905648]\n"
     ]
    }
   ],
   "source": [
    "print('Intercept:',lm.intercept_)\n",
    "print('Slope:',lm.coef_)"
   ]
  },
  {
   "cell_type": "markdown",
   "metadata": {},
   "source": [
    "#  Multiple Linear Regression"
   ]
  },
  {
   "cell_type": "markdown",
   "metadata": {},
   "source": [
    " What if we want to predict house price using more than one variable? \n",
    "\n",
    "If we want to use more variables in our model to predict house price, we can use **Multiple Linear Regression**.\n",
    "Multiple Linear Regression is very similar to Simple Linear Regression, but this method is used to explain the relationship between one continuous response (dependent) variable and *two or more* predictor (independent) variables.\n",
    "Most of the real-world regression models involve multiple predictors. We illustrate the structure by using four predictor variables, but these results can generalize to any integer :"
   ]
  },
  {
   "cell_type": "markdown",
   "metadata": {},
   "source": [
    " \\begin{equation*}\n",
    "Y: Response \\ Variable\\\\\n",
    "X_1 :Predictor\\ Variable \\ 1\\\\\n",
    "X_2: Predictor\\ Variable \\ 2\\\\\n",
    "X_3: Predictor\\ Variable \\ 3\\\\\n",
    "X_4: Predictor\\ Variable \\ 4\\\\\n",
    "\\end{equation*}\n"
   ]
  },
  {
   "cell_type": "markdown",
   "metadata": {},
   "source": [
    " \\begin{equation*}\n",
    "a: intercept\\\\\n",
    "b_1 :coefficients \\ of\\ Variable \\ 1\\\\\n",
    "b_2: coefficients \\ of\\ Variable \\ 2\\\\\n",
    "b_3: coefficients \\ of\\ Variable \\ 3\\\\\n",
    "b_4: coefficients \\ of\\ Variable \\ 4\\\\\n",
    "\\end{equation*}\n"
   ]
  },
  {
   "cell_type": "markdown",
   "metadata": {},
   "source": [
    " \\begin{equation*}\n",
    "Yhat = a + b_1 X_1 + b_2 X_2 + b_3 X_3 + b_4 X_4\n",
    "\\end{equation*}"
   ]
  },
  {
   "cell_type": "markdown",
   "metadata": {},
   "source": [
    "From the previous section  we know that other good predictors of price could be: \n",
    "- flaeche\n",
    "- baujahr\n",
    "- stockwerk\n",
    "- pqm\n",
    "\n",
    "Let's develop a model using these variables as the predictor variables."
   ]
  },
  {
   "cell_type": "code",
   "execution_count": 67,
   "metadata": {},
   "outputs": [],
   "source": [
    "lm1 = LinearRegression()\n",
    "z=df2[['zimmer','stockwerk','baujahr','pqm']]"
   ]
  },
  {
   "cell_type": "code",
   "execution_count": 68,
   "metadata": {},
   "outputs": [
    {
     "data": {
      "text/plain": [
       "LinearRegression(copy_X=True, fit_intercept=True, n_jobs=1, normalize=False)"
      ]
     },
     "execution_count": 68,
     "metadata": {},
     "output_type": "execute_result"
    }
   ],
   "source": [
    "lm1.fit(z,df2['preis'])"
   ]
  },
  {
   "cell_type": "code",
   "execution_count": 71,
   "metadata": {},
   "outputs": [
    {
     "name": "stdout",
     "output_type": "stream",
     "text": [
      "Intercept: -1.300177418384107e-05\n",
      "Slope: [ 1.67405710e-04 -1.05026523e-04  1.64858160e-05  6.09058006e-01]\n"
     ]
    }
   ],
   "source": [
    "print('Intercept:',lm1.intercept_)\n",
    "print('Slope:',lm1.coef_)"
   ]
  },
  {
   "cell_type": "markdown",
   "metadata": {},
   "source": [
    "How do we visualise a model for Multiple Linear Regression? This gets a bit more complicated because you can't visualise it with regression or residual plot. \n",
    "\n",
    "One way to look at the fit of the model is by looking at the **distribution plot**: We can look at the distribution of the fitted values that result from the model and compare it to the distribution of the actual values."
   ]
  },
  {
   "cell_type": "code",
   "execution_count": 84,
   "metadata": {},
   "outputs": [
    {
     "name": "stderr",
     "output_type": "stream",
     "text": [
      "C:\\Users\\ziaeeamir\\AppData\\Local\\Continuum\\anaconda3\\lib\\site-packages\\scipy\\stats\\stats.py:1706: FutureWarning: Using a non-tuple sequence for multidimensional indexing is deprecated; use `arr[tuple(seq)]` instead of `arr[seq]`. In the future this will be interpreted as an array index, `arr[np.array(seq)]`, which will result either in an error or a different result.\n",
      "  return np.add.reduce(sorted[indexer] * weights, axis=axis) / sumval\n"
     ]
    },
    {
     "data": {
      "image/png": "[encoded data removed]",
      "text/plain": [
       "<Figure size 864x864 with 1 Axes>"
      ]
     },
     "metadata": {},
     "output_type": "display_data"
    }
   ],
   "source": [
    "import matplotlib.pyplot as plt\n",
    "Y_hat = lm1.predict(z)\n",
    "\n",
    "plt.figure(figsize=(12, 12))\n",
    "ax1 = sns.distplot(df2['preis'], hist=False, color=\"r\", label=\"Actual Value\")\n",
    "sns.distplot(Y_hat, hist=False, color=\"b\", label=\"Fitted Values\" , ax=ax1)\n",
    "\n",
    "\n",
    "plt.title('Actual vs Fitted Values for Price')\n",
    "plt.xlabel('Price ')\n",
    "plt.ylabel('Proportion of House')\n",
    "\n",
    "plt.show()\n",
    "plt.close()\n"
   ]
  },
  {
   "cell_type": "markdown",
   "metadata": {},
   "source": [
    "# Polynomial Regression "
   ]
  },
  {
   "cell_type": "markdown",
   "metadata": {},
   "source": [
    "**Polynomial regression** is a particular case of the general linear regression model or multiple linear regression models. \n",
    "We get non-linear relationships by squaring or setting higher-order terms of the predictor variables.\n",
    "\n",
    "There are different orders of polynomial regression:\n",
    "    "
   ]
  },
  {
   "cell_type": "markdown",
   "metadata": {},
   "source": [
    "<center>**Quadratic - 2nd order**</center>\n",
    "\n",
    "\n",
    " \\begin{equation*}\n",
    "Yhat = a + b_1 X^2 +b_2 X^2 \n",
    "\\\\\n",
    "\\end{equation*}\n",
    "\n",
    "\n",
    " <center>**Cubic - 3rd order**</center>\n",
    " \n",
    " \n",
    " \\begin{equation*}\n",
    "Yhat = a + b_1 X^2 +b_2 X^2 +b_3 X^3\\\\\n",
    "\\end{equation*}\n",
    "\n",
    "<center> **Higher order**:</center>\n",
    "\n",
    "\n",
    " \\begin{equation*}\n",
    "Y = a + b_1 X^2 +b_2 X^2 +b_3 X^3 ....\\\\\n",
    "\\end{equation*}"
   ]
  },
  {
   "cell_type": "markdown",
   "metadata": {},
   "source": [
    "We saw earlier that a linear model did not provide the best fit while using highway-mpg as the predictor variable. Let's see if we can try fitting a polynomial model to the data instead."
   ]
  },
  {
   "cell_type": "markdown",
   "metadata": {},
   "source": [
    " We will use the following function to plot the data:"
   ]
  },
  {
   "cell_type": "code",
   "execution_count": 85,
   "metadata": {},
   "outputs": [
    {
     "name": "stdout",
     "output_type": "stream",
     "text": [
      "done\n"
     ]
    }
   ],
   "source": [
    "def PlotPolly(model,independent_variable,dependent_variabble, Name):\n",
    "    x_new = np.linspace(15, 55, 100)\n",
    "    y_new = model(x_new)\n",
    "\n",
    "    plt.plot(independent_variable,dependent_variabble,'.', x_new, y_new, '-')\n",
    "    plt.title('Polynomial Fit with Matplotlib for Price')\n",
    "    ax = plt.gca()\n",
    "    ax.set_facecolor((0.898, 0.898, 0.898))\n",
    "    fig = plt.gcf()\n",
    "    plt.xlabel(Name)\n",
    "    plt.ylabel('Price of house')\n",
    "\n",
    "    plt.show()\n",
    "    plt.close()\n",
    "    \n",
    "print(\"done\")"
   ]
  },
  {
   "cell_type": "code",
   "execution_count": 86,
   "metadata": {},
   "outputs": [],
   "source": [
    "x=df2['pqm'].astype(np.int64)\n",
    "y=df2['preis'].astype(np.int64)"
   ]
  },
  {
   "cell_type": "code",
   "execution_count": 87,
   "metadata": {},
   "outputs": [
    {
     "name": "stderr",
     "output_type": "stream",
     "text": [
      "C:\\Users\\ziaeeamir\\AppData\\Local\\Continuum\\anaconda3\\lib\\site-packages\\ipykernel_launcher.py:1: RankWarning: Polyfit may be poorly conditioned\n",
      "  \"\"\"Entry point for launching an IPython kernel.\n"
     ]
    }
   ],
   "source": [
    "f=np.polyfit(x,y,6)\n",
    "p=np.poly1d(f)"
   ]
  },
  {
   "cell_type": "code",
   "execution_count": 88,
   "metadata": {},
   "outputs": [
    {
     "data": {
      "image/png": "[encoded data removed]",
      "text/plain": [
       "<Figure size 432x288 with 1 Axes>"
      ]
     },
     "metadata": {},
     "output_type": "display_data"
    }
   ],
   "source": [
    "PlotPolly(p,x,y,'pqm')"
   ]
  },
  {
   "cell_type": "markdown",
   "metadata": {},
   "source": [
    "# Measures for In-Sample Evaluation"
   ]
  },
  {
   "cell_type": "markdown",
   "metadata": {},
   "source": [
    "When evaluating our models, not only do we want to visualise the results, but we also want a quantitative measure to determine how accurate the model is.\n",
    "\n",
    "Two very important measures that are often used in Statistics to determine the accuracy of a model are:\n",
    "\n",
    "- **R^2 / R-squared**\n",
    "- **Mean Squared Error (MSE)**\n",
    "\n",
    "**R-squared**\n",
    "\n",
    "R squared, also known as the coefficient of determination, is a measure to indicate how close the data is to the fitted regression line.\n",
    "The value of the R-squared is the percentage of variation of the response variable (y) that is explained by a linear model.\n",
    "\n",
    "\n",
    "\n",
    "**Mean Squared Error (MSE)**\n",
    "\n",
    "The Mean Squared Error measures the average of the squares of errors, that is, the difference between actual value (y) and the estimated value (ŷ)."
   ]
  },
  {
   "cell_type": "markdown",
   "metadata": {},
   "source": [
    "##### Model 1:Linear Regression"
   ]
  },
  {
   "cell_type": "code",
   "execution_count": 89,
   "metadata": {},
   "outputs": [
    {
     "data": {
      "text/plain": [
       "0.7901424796219645"
      ]
     },
     "execution_count": 89,
     "metadata": {},
     "output_type": "execute_result"
    }
   ],
   "source": [
    "# Find the R^2\n",
    "lm.score(X, Y)"
   ]
  },
  {
   "cell_type": "code",
   "execution_count": 90,
   "metadata": {},
   "outputs": [
    {
     "name": "stdout",
     "output_type": "stream",
     "text": [
      "mean_squared_error: 1.558338596789699e-06\n"
     ]
    }
   ],
   "source": [
    "#Find mean_squared_error\n",
    "from sklearn.metrics import mean_squared_error\n",
    "mean_squared_errors=mean_squared_error(df2['preis'],Yhat)\n",
    "print('mean_squared_error:',mean_squared_errors)"
   ]
  },
  {
   "cell_type": "markdown",
   "metadata": {},
   "source": [
    "##### Model 2: Multiple Linear Regression"
   ]
  },
  {
   "cell_type": "code",
   "execution_count": 91,
   "metadata": {},
   "outputs": [
    {
     "data": {
      "text/plain": [
       "0.7901456042014661"
      ]
     },
     "execution_count": 91,
     "metadata": {},
     "output_type": "execute_result"
    }
   ],
   "source": [
    "lm1.score(z,df2['preis'])"
   ]
  },
  {
   "cell_type": "code",
   "execution_count": 92,
   "metadata": {},
   "outputs": [
    {
     "name": "stdout",
     "output_type": "stream",
     "text": [
      "mean_squared_error: 1.558315394605535e-06\n"
     ]
    }
   ],
   "source": [
    "mean_squared_errors2=mean_squared_error(df2['preis'],Y_hat)\n",
    "print('mean_squared_error:',mean_squared_errors2)"
   ]
  },
  {
   "cell_type": "markdown",
   "metadata": {},
   "source": [
    "##### Model 3: Polynomial Fit"
   ]
  },
  {
   "cell_type": "code",
   "execution_count": 93,
   "metadata": {},
   "outputs": [],
   "source": [
    "from sklearn.metrics import r2_score"
   ]
  },
  {
   "cell_type": "code",
   "execution_count": 94,
   "metadata": {},
   "outputs": [
    {
     "data": {
      "text/plain": [
       "2.2398749521812533e-11"
      ]
     },
     "execution_count": 94,
     "metadata": {},
     "output_type": "execute_result"
    }
   ],
   "source": [
    "r_squared=r2_score(y,p(x))\n",
    "r_squared"
   ]
  },
  {
   "cell_type": "code",
   "execution_count": 95,
   "metadata": {},
   "outputs": [
    {
     "data": {
      "text/plain": [
       "7.425767411784204e-06"
      ]
     },
     "execution_count": 95,
     "metadata": {},
     "output_type": "execute_result"
    }
   ],
   "source": [
    "mean_squared_error(df2['preis'], p(x))"
   ]
  },
  {
   "cell_type": "markdown",
   "metadata": {},
   "source": [
    "# Model Evaluation and Refinement "
   ]
  },
  {
   "cell_type": "code",
   "execution_count": 96,
   "metadata": {},
   "outputs": [
    {
     "name": "stdout",
     "output_type": "stream",
     "text": [
      "done\n"
     ]
    },
    {
     "name": "stderr",
     "output_type": "stream",
     "text": [
      "C:\\Users\\ziaeeamir\\AppData\\Local\\Continuum\\anaconda3\\lib\\site-packages\\IPython\\html.py:14: ShimWarning: The `IPython.html` package has been deprecated since IPython 4.0. You should import from `notebook` instead. `IPython.html.widgets` has moved to `ipywidgets`.\n",
      "  \"`IPython.html.widgets` has moved to `ipywidgets`.\", ShimWarning)\n"
     ]
    }
   ],
   "source": [
    "from IPython.display import display\n",
    "from IPython.html import widgets \n",
    "from IPython.display import display\n",
    "from ipywidgets import interact, interactive, fixed, interact_manual\n",
    "print(\"done\")"
   ]
  },
  {
   "cell_type": "markdown",
   "metadata": {},
   "source": [
    "#### Functions for plotting "
   ]
  },
  {
   "cell_type": "code",
   "execution_count": 97,
   "metadata": {},
   "outputs": [],
   "source": [
    "def DistributionPlot(RedFunction,BlueFunction,RedName,BlueName,Title ):\n",
    "    width = 12\n",
    "    height = 10\n",
    "    plt.figure(figsize=(width, height))\n",
    "\n",
    "    ax1 = sns.distplot(RedFunction, hist=False, color=\"r\", label=RedName)\n",
    "    ax2 = sns.distplot(BlueFunction, hist=False, color=\"b\", label=BlueName, ax=ax1)\n",
    "\n",
    "    plt.title(Title)\n",
    "    plt.xlabel('Price')\n",
    "    plt.ylabel('Proportion of House')\n",
    "\n",
    "    plt.show()\n",
    "    plt.close()\n",
    "    "
   ]
  },
  {
   "cell_type": "code",
   "execution_count": 98,
   "metadata": {},
   "outputs": [],
   "source": [
    "def PollyPlot(xtrain,xtest,y_train,y_test,lr,poly_transform):\n",
    "    width = 12\n",
    "    height = 10\n",
    "    plt.figure(figsize=(width, height))\n",
    "    \n",
    "    \n",
    "    #training data \n",
    "    #testing data \n",
    "    # lr:  linear regression object \n",
    "    #poly_transform:  polynomial transformation object \n",
    " \n",
    "    xmax=max([xtrain.values.max(),xtest.values.max()])\n",
    "\n",
    "    xmin=min([xtrain.values.min(),xtest.values.min()])\n",
    "\n",
    "    x=np.arange(xmin,xmax,0.1)\n",
    "\n",
    "\n",
    "    plt.plot(xtrain,y_train,'ro',label='Training Data')\n",
    "    plt.plot(xtest,y_test,'go',label='Test Data')\n",
    "    plt.plot(x,lr.predict(poly_transform.fit_transform(x.reshape(-1,1))),label='Predicted Function')\n",
    "    plt.ylim([-10000,60000])\n",
    "    plt.ylabel('Price')\n",
    "    plt.legend()\n"
   ]
  },
  {
   "cell_type": "markdown",
   "metadata": {},
   "source": [
    "# Training and Testing\n"
   ]
  },
  {
   "cell_type": "code",
   "execution_count": 99,
   "metadata": {},
   "outputs": [],
   "source": [
    "df4=df2._get_numeric_data()"
   ]
  },
  {
   "cell_type": "markdown",
   "metadata": {},
   "source": [
    "<a id=\"ref1\"></a>\n",
    "\n",
    "# Part 1: Training and Testing\n",
    "\n",
    "An important step in testing your model is to split your data into training and testing data. We will place the target data **price** in a separate dataframe **y**:"
   ]
  },
  {
   "cell_type": "code",
   "execution_count": 100,
   "metadata": {},
   "outputs": [
    {
     "name": "stdout",
     "output_type": "stream",
     "text": [
      "number of test samples : 31695\n",
      "number of training samples: 179600\n"
     ]
    }
   ],
   "source": [
    "y_data=df4['preis']\n",
    "x_data=df4.drop('preis',axis=1)\n",
    "from sklearn.model_selection import train_test_split\n",
    "x_train,x_test,y_train,y_test=train_test_split(x_data,y_data,test_size=.15,random_state=1)\n",
    "\n",
    "print(\"number of test samples :\", x_test.shape[0])\n",
    "print(\"number of training samples:\",x_train.shape[0])"
   ]
  },
  {
   "cell_type": "code",
   "execution_count": null,
   "metadata": {},
   "outputs": [],
   "source": []
  },
  {
   "cell_type": "code",
   "execution_count": 101,
   "metadata": {},
   "outputs": [
    {
     "data": {
      "text/plain": [
       "LinearRegression(copy_X=True, fit_intercept=True, n_jobs=1, normalize=False)"
      ]
     },
     "execution_count": 101,
     "metadata": {},
     "output_type": "execute_result"
    }
   ],
   "source": [
    "lrm_f=LinearRegression()\n",
    "lrm_f.fit(x_train[['pqm']],y_train)"
   ]
  },
  {
   "cell_type": "code",
   "execution_count": 102,
   "metadata": {},
   "outputs": [
    {
     "data": {
      "text/plain": [
       "-7.475232331085719"
      ]
     },
     "execution_count": 102,
     "metadata": {},
     "output_type": "execute_result"
    }
   ],
   "source": [
    "lrm_f.score(x_test[['pqm']],y_test)"
   ]
  },
  {
   "cell_type": "markdown",
   "metadata": {},
   "source": [
    "we can see the R^2 is much smaller using the test data."
   ]
  },
  {
   "cell_type": "markdown",
   "metadata": {},
   "source": [
    "# Cross-validation Score "
   ]
  },
  {
   "cell_type": "code",
   "execution_count": 103,
   "metadata": {},
   "outputs": [],
   "source": [
    "from sklearn.model_selection import cross_val_score"
   ]
  },
  {
   "cell_type": "markdown",
   "metadata": {},
   "source": [
    "We input the object, the feature in this case ' flaeche', the target data (y_data). The parameter 'cv'  determines the number of folds; in this case 4. "
   ]
  },
  {
   "cell_type": "code",
   "execution_count": 104,
   "metadata": {},
   "outputs": [
    {
     "data": {
      "text/plain": [
       "array([-6.70846407e-05, -7.70701360e+05, -3.11662704e+05, -2.57349508e+04])"
      ]
     },
     "execution_count": 104,
     "metadata": {},
     "output_type": "execute_result"
    }
   ],
   "source": [
    "Rcross=cross_val_score(lrm_f,x_data[['flaeche']], y_data,cv=4)\n",
    "Rcross"
   ]
  },
  {
   "cell_type": "markdown",
   "metadata": {},
   "source": [
    "### Linear Model"
   ]
  },
  {
   "cell_type": "markdown",
   "metadata": {},
   "source": [
    "Let's create Multiple linear regression objects and train the model using **'Zimmer'**, **'Baujahr'**, **'Stockwerk'** and **'Flaeche'** as features."
   ]
  },
  {
   "cell_type": "code",
   "execution_count": 108,
   "metadata": {},
   "outputs": [
    {
     "name": "stdout",
     "output_type": "stream",
     "text": [
      "Train [0.6016925  0.57087229 0.56818008 0.53066678 0.5661722 ]\n",
      "Test [0.5735479  0.58090672 0.60838757 0.57354241 0.57353657]\n"
     ]
    }
   ],
   "source": [
    "lr=LinearRegression()\n",
    "lr.fit(x_train[['flaeche', 'pqm', 'stockwerk', 'zimmer']],y_train)\n",
    "yhat_train=lr.predict(x_train[['flaeche', 'baujahr', 'stockwerk', 'zimmer']])\n",
    "print('Train',yhat_train[0:5])\n",
    "yhat_test=lr.predict(x_test[['flaeche', 'baujahr', 'stockwerk', 'zimmer']])\n",
    "print('Test',yhat_test[0:5])"
   ]
  },
  {
   "cell_type": "code",
   "execution_count": 109,
   "metadata": {},
   "outputs": [
    {
     "name": "stderr",
     "output_type": "stream",
     "text": [
      "C:\\Users\\ziaeeamir\\AppData\\Local\\Continuum\\anaconda3\\lib\\site-packages\\scipy\\stats\\stats.py:1706: FutureWarning: Using a non-tuple sequence for multidimensional indexing is deprecated; use `arr[tuple(seq)]` instead of `arr[seq]`. In the future this will be interpreted as an array index, `arr[np.array(seq)]`, which will result either in an error or a different result.\n",
      "  return np.add.reduce(sorted[indexer] * weights, axis=axis) / sumval\n"
     ]
    },
    {
     "data": {
      "image/png": "[encoded data removed]",
      "text/plain": [
       "<Figure size 864x720 with 1 Axes>"
      ]
     },
     "metadata": {},
     "output_type": "display_data"
    }
   ],
   "source": [
    "Title='Distribution  Plot of  Predicted Value Using Training Data vs Training Data Distribution '\n",
    "DistributionPlot(y_train,yhat_train,\"Actual Values (Train)\",\"Predicted Values (Train)\",Title)"
   ]
  },
  {
   "cell_type": "code",
   "execution_count": 110,
   "metadata": {},
   "outputs": [
    {
     "name": "stderr",
     "output_type": "stream",
     "text": [
      "C:\\Users\\ziaeeamir\\AppData\\Local\\Continuum\\anaconda3\\lib\\site-packages\\scipy\\stats\\stats.py:1706: FutureWarning: Using a non-tuple sequence for multidimensional indexing is deprecated; use `arr[tuple(seq)]` instead of `arr[seq]`. In the future this will be interpreted as an array index, `arr[np.array(seq)]`, which will result either in an error or a different result.\n",
      "  return np.add.reduce(sorted[indexer] * weights, axis=axis) / sumval\n"
     ]
    },
    {
     "data": {
      "image/png": "[encoded data removed]",
      "text/plain": [
       "<Figure size 864x720 with 1 Axes>"
      ]
     },
     "metadata": {},
     "output_type": "display_data"
    }
   ],
   "source": [
    "Title='Distribution  Plot of  Predicted Value Using Test Data vs Data Distribution of Test Data'\n",
    "DistributionPlot(y_test,yhat_test,\"Actual Values (Test)\",\"Predicted Values (Test)\",Title)"
   ]
  },
  {
   "cell_type": "markdown",
   "metadata": {},
   "source": [
    "### PolynomialFeatures"
   ]
  },
  {
   "cell_type": "code",
   "execution_count": 111,
   "metadata": {},
   "outputs": [
    {
     "data": {
      "text/plain": [
       "PolynomialFeatures(degree=5, include_bias=True, interaction_only=False)"
      ]
     },
     "execution_count": 111,
     "metadata": {},
     "output_type": "execute_result"
    }
   ],
   "source": [
    "from sklearn.preprocessing import PolynomialFeatures\n",
    "pr=PolynomialFeatures(degree=5)\n",
    "x_train_pr=pr.fit_transform(x_train[['pqm']])\n",
    "x_test_pr=pr.fit_transform(x_test[['pqm']])\n",
    "pr"
   ]
  },
  {
   "cell_type": "code",
   "execution_count": 112,
   "metadata": {},
   "outputs": [
    {
     "data": {
      "text/plain": [
       "LinearRegression(copy_X=True, fit_intercept=True, n_jobs=1, normalize=False)"
      ]
     },
     "execution_count": 112,
     "metadata": {},
     "output_type": "execute_result"
    }
   ],
   "source": [
    "poly=LinearRegression()\n",
    "poly.fit(x_train_pr,y_train)"
   ]
  },
  {
   "cell_type": "markdown",
   "metadata": {},
   "source": [
    "Let's take the first five predicted values and compare it to the actual targets. "
   ]
  },
  {
   "cell_type": "code",
   "execution_count": 113,
   "metadata": {},
   "outputs": [
    {
     "data": {
      "text/plain": [
       "array([8.94776834e-10, 1.10781905e-09, 1.17578820e-09, 1.01110550e-09,\n",
       "       1.15255675e-09])"
      ]
     },
     "execution_count": 113,
     "metadata": {},
     "output_type": "execute_result"
    }
   ],
   "source": [
    "yhat=poly.predict(x_test_pr )\n",
    "yhat[0:5]"
   ]
  },
  {
   "cell_type": "code",
   "execution_count": 114,
   "metadata": {},
   "outputs": [
    {
     "name": "stdout",
     "output_type": "stream",
     "text": [
      "Predicted values: [8.94776834e-10 1.10781905e-09 1.17578820e-09 1.01110550e-09]\n",
      "True values: [4.43869484e-10 9.70267466e-10 7.88258672e-10 3.74277887e-10]\n"
     ]
    }
   ],
   "source": [
    "print(\"Predicted values:\", yhat[0:4])\n",
    "print(\"True values:\",y_test[0:4].values)"
   ]
  },
  {
   "cell_type": "markdown",
   "metadata": {},
   "source": [
    "We will use the function \"PollyPlot\" that we defined at the beginning of the lab to display the training data, testing data, and the predicted function."
   ]
  },
  {
   "cell_type": "code",
   "execution_count": 115,
   "metadata": {},
   "outputs": [
    {
     "data": {
      "image/png": "[encoded data removed]",
      "text/plain": [
       "<Figure size 864x720 with 1 Axes>"
      ]
     },
     "metadata": {},
     "output_type": "display_data"
    }
   ],
   "source": [
    "PollyPlot(x_train[['pqm']],x_test[['pqm']],y_train,y_test,poly,pr)"
   ]
  },
  {
   "cell_type": "code",
   "execution_count": null,
   "metadata": {},
   "outputs": [],
   "source": []
  }
 ],
 "metadata": {
  "kernelspec": {
   "display_name": "Python 3",
   "language": "python",
   "name": "python3"
  },
  "language_info": {
   "codemirror_mode": {
    "name": "ipython",
    "version": 3
   },
   "file_extension": ".py",
   "mimetype": "text/x-python",
   "name": "python",
   "nbconvert_exporter": "python",
   "pygments_lexer": "ipython3",
   "version": "3.6.4"
  }
 },
 "nbformat": 4,
 "nbformat_minor": 2
}
